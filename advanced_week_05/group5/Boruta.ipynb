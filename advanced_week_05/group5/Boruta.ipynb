{
 "cells": [
  {
   "cell_type": "code",
   "execution_count": 1,
   "id": "799422e2-cb24-48bf-a742-e67d588d6be9",
   "metadata": {},
   "outputs": [],
   "source": [
    "import numpy as np\n",
    "import pandas as pd\n",
    "from sklearn.datasets import load_breast_cancer\n",
    "from sklearn.ensemble import RandomForestClassifier"
   ]
  },
  {
   "cell_type": "code",
   "execution_count": 2,
   "id": "5e118800-ae94-4598-8310-a9677547a341",
   "metadata": {},
   "outputs": [
    {
     "name": "stdout",
     "output_type": "stream",
     "text": [
      "Dataset shape: (569, 30)\n"
     ]
    }
   ],
   "source": [
    "# Step 1: Load a dataset with many features\n",
    "data = load_breast_cancer()\n",
    "X = pd.DataFrame(data.data, columns=data.feature_names)\n",
    "y = data.target\n",
    "\n",
    "print(\"Dataset shape:\", X.shape)"
   ]
  },
  {
   "cell_type": "code",
   "execution_count": 10,
   "id": "5c98f3a8-b0b0-48d8-a326-62a53a3d5c19",
   "metadata": {},
   "outputs": [],
   "source": [
    "# Step 2: Define parameters\n",
    "n_iterations = 50      # Number of Boruta iterations\n",
    "random_state = 42\n",
    "rf = RandomForestClassifier(n_jobs=-1, max_depth=5, random_state=random_state)"
   ]
  },
  {
   "cell_type": "code",
   "execution_count": 11,
   "id": "c87d6fee-0871-4c26-a3d8-e0bac50b8a9b",
   "metadata": {},
   "outputs": [],
   "source": [
    "# Step 3: Initialize lists to track feature status\n",
    "feature_names = X.columns\n",
    "confirmed = set()\n",
    "rejected = set()"
   ]
  },
  {
   "cell_type": "code",
   "execution_count": 18,
   "id": "9a5b735e-ed19-4205-b44d-a4d12ce09f24",
   "metadata": {},
   "outputs": [
    {
     "data": {
      "text/plain": [
       "(28, 2)"
      ]
     },
     "execution_count": 18,
     "metadata": {},
     "output_type": "execute_result"
    }
   ],
   "source": [
    "len(confirmed), len(rejected)"
   ]
  },
  {
   "cell_type": "code",
   "execution_count": 16,
   "id": "9ecd0df4-1c2d-47c3-8ec9-0de3438621e2",
   "metadata": {},
   "outputs": [
    {
     "name": "stdout",
     "output_type": "stream",
     "text": [
      "Iteration 1/50\n"
     ]
    }
   ],
   "source": [
    "# Step 4: Boruta iterations\n",
    "for it in range(n_iterations):\n",
    "    print(f\"Iteration {it+1}/{n_iterations}\")\n",
    "    \n",
    "    # 4a: Create shadow features (shuffle each column)\n",
    "    X_shadow = X.apply(np.random.permutation)\n",
    "    X_combined = pd.concat([X, X_shadow], axis=1)\n",
    "    \n",
    "    # 4b: Fit random forest\n",
    "    rf.fit(X_combined, y)\n",
    "    importances = rf.feature_importances_\n",
    "    \n",
    "    # Split original and shadow importances\n",
    "    orig_importances = importances[:X.shape[1]]\n",
    "    shadow_importances = importances[X.shape[1]:]\n",
    "    shadow_max = shadow_importances.max()\n",
    "    \n",
    "    # 4c: Update confirmed and rejected features\n",
    "    for i, f in enumerate(feature_names):\n",
    "        if f in confirmed or f in rejected:\n",
    "            continue\n",
    "        if orig_importances[i] > shadow_max:\n",
    "            confirmed.add(f)\n",
    "        elif orig_importances[i] < shadow_max:\n",
    "            rejected.add(f)\n",
    "    \n",
    "    # Stop early if all features are decided\n",
    "    if len(confirmed) + len(rejected) == len(feature_names):\n",
    "        break"
   ]
  },
  {
   "cell_type": "code",
   "execution_count": 6,
   "id": "df0eceed-0930-41d0-b98f-56ad8fe9646b",
   "metadata": {},
   "outputs": [],
   "source": [
    "# Step 5: Tentative features\n",
    "tentative = set(feature_names) - confirmed - rejected"
   ]
  },
  {
   "cell_type": "code",
   "execution_count": 7,
   "id": "7886a7e7-d890-4ff6-ac8e-d226a730d7a3",
   "metadata": {},
   "outputs": [
    {
     "name": "stdout",
     "output_type": "stream",
     "text": [
      "\n",
      "Confirmed Important Features: {'area error', 'concavity error', 'mean texture', 'worst smoothness', 'worst compactness', 'worst radius', 'worst concave points', 'mean concavity', 'fractal dimension error', 'worst fractal dimension', 'smoothness error', 'mean concave points', 'mean symmetry', 'worst texture', 'mean perimeter', 'worst symmetry', 'perimeter error', 'texture error', 'worst area', 'concave points error', 'worst perimeter', 'worst concavity', 'mean smoothness', 'radius error', 'compactness error', 'mean radius', 'mean area', 'mean compactness'}\n",
      "Tentative Features: set()\n",
      "Rejected Features: {'symmetry error', 'mean fractal dimension'}\n"
     ]
    }
   ],
   "source": [
    "# Step 6: Results\n",
    "print(\"\\nConfirmed Important Features:\", confirmed)\n",
    "print(\"Tentative Features:\", tentative)\n",
    "print(\"Rejected Features:\", rejected)"
   ]
  },
  {
   "cell_type": "code",
   "execution_count": null,
   "id": "56cb61bb-4375-443e-8602-bc5b42d05951",
   "metadata": {},
   "outputs": [],
   "source": []
  }
 ],
 "metadata": {
  "kernelspec": {
   "display_name": "Python 3 (ipykernel)",
   "language": "python",
   "name": "python3"
  },
  "language_info": {
   "codemirror_mode": {
    "name": "ipython",
    "version": 3
   },
   "file_extension": ".py",
   "mimetype": "text/x-python",
   "name": "python",
   "nbconvert_exporter": "python",
   "pygments_lexer": "ipython3",
   "version": "3.13.7"
  }
 },
 "nbformat": 4,
 "nbformat_minor": 5
}
