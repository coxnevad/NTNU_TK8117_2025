{
 "cells": [
  {
   "cell_type": "markdown",
   "id": "ac1829c2-4429-4a5e-beee-c6cc7cf62a81",
   "metadata": {},
   "source": [
    "# PCA-Based Outlier Detection: Advantages & Disadvantages\n",
    "\n",
    "| **Method** | **Advantages** | **Disadvantages** |\n",
    "|------------|----------------|-------------------|\n",
    "| **Univariate (Analyzing Individual PC Scores)** | - Simple and fast; easy to implement and understand.<br>- Detects outliers in specific PCs, especially minor ones where anomalies stand out.<br>- Great for visualization (e.g., scatter plots of PC1 vs. PC2). | - Misses outliers that depend on relationships between PCs.<br>- Checking multiple PCs can lead to false positives.<br>- Less effective if outliers align with high-variance PCs. |\n",
    "| **Multivariate (Combining Multiple PC Scores)** | - Captures outliers by considering relationships between PCs, catching complex anomalies.<br>- Ideal for high-dimensional data with correlated features.<br>- Provides a holistic view of data in the PCA space. | - More computationally intensive than univariate.<br>- Sensitive to noisy or incomplete data, requiring careful preprocessing.<br>- Harder to visualize and interpret than univariate. |\n",
    "| **Reconstruction Error** | - Intuitive: Outliers have large errors as they don’t fit the PCA model.<br>- Effective for high-dimensional data where PCA filters noise. | - Sensitive to the number of PCs chosen (*k*); wrong choice skews results.<br>- Requires careful threshold setting to avoid mislabeling.<br>- May produce high errors for normal points in sparse datasets. |\n",
    "\n",
    "**Key Takeaway**: Use Univariate for quick, visual checks; Multivariate for complex, correlated data; Reconstruction Error for high-dimensional data with clear outliers."
   ]
  },
  {
   "cell_type": "markdown",
   "id": "e689a4be-4bee-442c-8bb3-18cb8279e159",
   "metadata": {},
   "source": []
  }
 ],
 "metadata": {
  "kernelspec": {
   "display_name": "Python 3 (ipykernel)",
   "language": "python",
   "name": "python3"
  },
  "language_info": {
   "codemirror_mode": {
    "name": "ipython",
    "version": 3
   },
   "file_extension": ".py",
   "mimetype": "text/x-python",
   "name": "python",
   "nbconvert_exporter": "python",
   "pygments_lexer": "ipython3",
   "version": "3.13.7"
  }
 },
 "nbformat": 4,
 "nbformat_minor": 5
}
