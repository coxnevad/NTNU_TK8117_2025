{
 "cells": [
  {
   "cell_type": "code",
   "id": "6230b4bf-10cd-4933-89e0-08a16e2510d7",
   "metadata": {
    "ExecuteTime": {
     "end_time": "2025-09-17T08:29:24.989157Z",
     "start_time": "2025-09-17T08:29:23.360300Z"
    }
   },
   "source": [
    "import operator, math, random\n",
    "import numpy as np\n",
    "import pandas as pd\n",
    "import matplotlib.pyplot as plt"
   ],
   "outputs": [],
   "execution_count": 1
  },
  {
   "cell_type": "code",
   "id": "1b75f09f-412e-4935-89d3-ce3415080457",
   "metadata": {
    "ExecuteTime": {
     "end_time": "2025-09-17T08:29:24.995673Z",
     "start_time": "2025-09-17T08:29:24.990645Z"
    }
   },
   "source": [
    "# Seed for reproducibility\n",
    "np.random.seed(42)\n",
    "\n",
    "# Generate synthetic data from a symbolic function with some noise\n",
    "# True function: y = 2 * sin(x) + 0.5 * x^2\n",
    "x = np.linspace(-5, 5, 200)\n",
    "\n",
    "y_true = 2 * np.sin(x) + x**2\n",
    "noise = np.random.normal(0, 0.5, size=x.shape)\n",
    "y_noisy = y_true + noise\n",
    "\n",
    "# Create DataFrame\n",
    "df = pd.DataFrame({\"x\": x, \"y\": y_noisy, \"y_true\": y_true})"
   ],
   "outputs": [],
   "execution_count": 2
  },
  {
   "cell_type": "code",
   "id": "a58bd217-d07a-4e54-a219-4b0cb258ecf1",
   "metadata": {
    "ExecuteTime": {
     "end_time": "2025-09-17T08:29:25.000257Z",
     "start_time": "2025-09-17T08:29:24.996937Z"
    }
   },
   "source": [
    "# --- 1. Define primitive functions ---\n",
    "FUNCTIONS = {\n",
    "    \"add\": (operator.add, 2),\n",
    "    \"sub\": (operator.sub, 2),\n",
    "    \"mul\": (operator.mul, 2),\n",
    "    \"div\": (lambda a,b: a/b if b != 0 else 1, 2),\n",
    "    \"sin\": (math.sin, 1),\n",
    "    \"cos\": (math.cos, 1)\n",
    "}\n",
    "TERMINALS = [\"x\"]"
   ],
   "outputs": [],
   "execution_count": 3
  },
  {
   "cell_type": "code",
   "id": "a119c5d5-c682-41a3-9883-8cee9e6fa363",
   "metadata": {
    "ExecuteTime": {
     "end_time": "2025-09-17T08:29:25.005854Z",
     "start_time": "2025-09-17T08:29:25.001549Z"
    }
   },
   "source": [
    "def generate_random_expr(depth=3, seed=None):\n",
    "    if not seed is None:\n",
    "        np.random.seed(seed)\n",
    "    if depth == 0 or (depth < 3 and random.random() < 0.3):\n",
    "        if random.random() < 0.5:\n",
    "            return \"x\"\n",
    "        else:\n",
    "            return random.uniform(-3, 3)\n",
    "    func, (op, arity) = random.choice(list(FUNCTIONS.items()))\n",
    "    return (func,) + tuple(generate_random_expr(depth-1) for _ in range(arity))"
   ],
   "outputs": [],
   "execution_count": 4
  },
  {
   "cell_type": "code",
   "id": "aad12be7-1fea-4e12-bffb-0c08955abed9",
   "metadata": {
    "ExecuteTime": {
     "end_time": "2025-09-17T08:29:25.011676Z",
     "start_time": "2025-09-17T08:29:25.007956Z"
    }
   },
   "source": [
    "# --- 3. Evaluate expression tree ---\n",
    "def eval_expr(expr, x):\n",
    "    if isinstance(expr, str):\n",
    "        return x\n",
    "    elif isinstance(expr, (int, float)):\n",
    "        return expr\n",
    "    else:\n",
    "        func, *args = expr\n",
    "        return FUNCTIONS[func][0](*[eval_expr(arg, x) for arg in args])"
   ],
   "outputs": [],
   "execution_count": 5
  },
  {
   "cell_type": "code",
   "id": "38ebd289-bc81-4258-b15f-0010047fd474",
   "metadata": {
    "ExecuteTime": {
     "end_time": "2025-09-17T08:29:25.017236Z",
     "start_time": "2025-09-17T08:29:25.013724Z"
    }
   },
   "source": [
    "# --- 4. Fitness ---\n",
    "def fitness(expr, xs, ys):\n",
    "    preds = np.array([eval_expr(expr, x) for x in xs])\n",
    "    return np.mean((preds - ys)**2)"
   ],
   "outputs": [],
   "execution_count": 6
  },
  {
   "cell_type": "code",
   "id": "9b5c8221-e6df-4e70-990e-cbea2e01fc5c",
   "metadata": {
    "ExecuteTime": {
     "end_time": "2025-09-17T08:29:25.023885Z",
     "start_time": "2025-09-17T08:29:25.019119Z"
    }
   },
   "source": [
    "# --- 5. Mutation (replace random subtree) ---\n",
    "def mutate(expr, depth=3):\n",
    "    if isinstance(expr, (str, float, int)) or random.random() < 0.2:\n",
    "        return generate_random_expr(depth)\n",
    "    func, *args = expr\n",
    "    return (func,) + tuple(mutate(arg, depth-1) for arg in args)"
   ],
   "outputs": [],
   "execution_count": 7
  },
  {
   "cell_type": "code",
   "id": "81ed7fd0-9ba0-43d3-a0cd-4d14035d1094",
   "metadata": {
    "ExecuteTime": {
     "end_time": "2025-09-17T08:29:25.029417Z",
     "start_time": "2025-09-17T08:29:25.024992Z"
    }
   },
   "source": [
    "# --- 6. Evolution loop ---\n",
    "def evolve(xs, ys, generations=50, pop_size=50):\n",
    "    population = [generate_random_expr() for _ in range(pop_size)]\n",
    "    for gen in range(generations):\n",
    "        scored = [(fitness(expr, xs, ys), expr) for expr in population]\n",
    "        scored.sort(key=lambda t: t[0])\n",
    "        best = scored[0]\n",
    "        #print(f\"Gen {gen} best fitness={best[0]:.4f} expr={best[1]}\")\n",
    "        # Selection: keep top 10, mutate to refill\n",
    "        survivors = [expr for (_, expr) in scored[:10]]\n",
    "        population = survivors + [mutate(random.choice(survivors)) for _ in range(pop_size-10)]\n",
    "    return best"
   ],
   "outputs": [],
   "execution_count": 8
  },
  {
   "cell_type": "code",
   "id": "c0966684-2b2b-4c7d-959a-a3dbd48e1ecb",
   "metadata": {
    "ExecuteTime": {
     "end_time": "2025-09-17T08:29:27.906957Z",
     "start_time": "2025-09-17T08:29:25.030605Z"
    }
   },
   "source": [
    "# --- Example use ---\n",
    "np.random.seed(42)\n",
    "random.seed(42)\n",
    "\n",
    "# Generate synthetic data from a symbolic function with some noise\n",
    "# True function: y = 2 * sin(x) + 0.5 * x^2\n",
    "x = np.linspace(-5, 5, 200)\n",
    "y_true = 2 * np.sin(x) + x**2\n",
    "noise = np.random.normal(0, 0.5, size=x.shape)\n",
    "y_noisy = y_true + noise\n",
    "\n",
    "best_fit = evolve(x, y_noisy, generations=100, pop_size=50)\n",
    "best_model = best_fit[1]\n",
    "print(\"Best found:\", best_model)"
   ],
   "outputs": [
    {
     "name": "stdout",
     "output_type": "stream",
     "text": [
      "Best found: ('add', ('mul', 'x', 'x'), ('sin', 'x'))\n"
     ]
    }
   ],
   "execution_count": 9
  },
  {
   "cell_type": "code",
   "id": "1f6b5d4a-022e-4d5f-8ce4-e66844885743",
   "metadata": {
    "ExecuteTime": {
     "end_time": "2025-09-17T08:29:27.912777Z",
     "start_time": "2025-09-17T08:29:27.908277Z"
    }
   },
   "source": [
    "# --- Estimated values with symbolic regression model\n",
    "\n",
    "y_est = [eval_expr(best_model, xi) for xi in x]"
   ],
   "outputs": [],
   "execution_count": 10
  },
  {
   "cell_type": "code",
   "id": "e468f42d-deea-4850-9490-86a895387f68",
   "metadata": {
    "ExecuteTime": {
     "end_time": "2025-09-17T08:29:28.155654Z",
     "start_time": "2025-09-17T08:29:27.914622Z"
    }
   },
   "source": [
    "plt.plot(x, y_est)\n",
    "plt.scatter(x, y_noisy)"
   ],
   "outputs": [
    {
     "data": {
      "text/plain": [
       "<matplotlib.collections.PathCollection at 0x1f48598e900>"
      ]
     },
     "execution_count": 11,
     "metadata": {},
     "output_type": "execute_result"
    },
    {
     "data": {
      "text/plain": [
       "<Figure size 640x480 with 1 Axes>"
      ],
      "image/png": "[encoded data removed]"
     },
     "metadata": {},
     "output_type": "display_data"
    }
   ],
   "execution_count": 11
  },
  {
   "cell_type": "code",
   "id": "61521d86-5042-4ab4-b45b-8648ad495e81",
   "metadata": {
    "ExecuteTime": {
     "end_time": "2025-09-17T08:29:28.257893Z",
     "start_time": "2025-09-17T08:29:28.157078Z"
    }
   },
   "source": [
    "plt.plot(x, y_est)\n",
    "plt.scatter(x, y_true)"
   ],
   "outputs": [
    {
     "data": {
      "text/plain": [
       "<matplotlib.collections.PathCollection at 0x1f485a59bd0>"
      ]
     },
     "execution_count": 12,
     "metadata": {},
     "output_type": "execute_result"
    },
    {
     "data": {
      "text/plain": [
       "<Figure size 640x480 with 1 Axes>"
      ],
      "image/png": "[encoded data removed]"
     },
     "metadata": {},
     "output_type": "display_data"
    }
   ],
   "execution_count": 12
  },
  {
   "cell_type": "code",
   "id": "fe216ab9-89f5-45c7-8b7a-b51be2a1ef8f",
   "metadata": {
    "ExecuteTime": {
     "end_time": "2025-09-17T08:29:28.262081Z",
     "start_time": "2025-09-17T08:29:28.259320Z"
    }
   },
   "source": [],
   "outputs": [],
   "execution_count": 12
  }
 ],
 "metadata": {
  "kernelspec": {
   "display_name": "Python 3 (ipykernel)",
   "language": "python",
   "name": "python3"
  },
  "language_info": {
   "codemirror_mode": {
    "name": "ipython",
    "version": 3
   },
   "file_extension": ".py",
   "mimetype": "text/x-python",
   "name": "python",
   "nbconvert_exporter": "python",
   "pygments_lexer": "ipython3",
   "version": "3.13.7"
  }
 },
 "nbformat": 4,
 "nbformat_minor": 5
}
