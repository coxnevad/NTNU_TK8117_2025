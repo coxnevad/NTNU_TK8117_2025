{
  "nbformat": 4,
  "nbformat_minor": 0,
  "metadata": {
    "colab": {
      "provenance": []
    },
    "kernelspec": {
      "name": "python3",
      "display_name": "Python 3"
    },
    "language_info": {
      "name": "python"
    }
  },
  "cells": [
    {
      "cell_type": "markdown",
      "source": [
        "# Week 07 Group 1 - Naive Bayes classifiers\n",
        "### Daniel Centurion Barrionuevo, Giacomo Gardella, Muhammad Hilmi, Terje Haugland Jacobsson, Vitor Neves, Adrian Langmo Pavlak\n"
      ],
      "metadata": {
        "id": "93RNbEpdN7Kd"
      }
    },
    {
      "cell_type": "markdown",
      "source": [
        "### Naive Bayes — Short intro\n",
        "\n",
        "**Definition.** A *generative* classifier that applies Bayes’ rule with the **naive** assumption that features are *conditionally independent* given the class.\n",
        "\n",
        "**Decision rule** (one sample with features $x=(x_1,\\dots,x_p)$, classes $c\\in\\{1,\\dots,K\\}$):\n",
        "$$\n",
        "\\hat{y}=\\arg\\max_{c}\\; P(y=c)\\;\\prod_{j=1}^{p} P(x_j \\mid y=c)\n",
        "$$\n",
        "\n",
        "**Numerically stable (log-space) form:**\n",
        "$$\n",
        "\\hat{y}=\\arg\\max_{c}\\; \\log P(y=c)\\;+\\;\\sum_{j=1}^{p}\\log P(x_j \\mid y=c)\n",
        "$$"
      ],
      "metadata": {
        "id": "MgwB-vcgRuvx"
      }
    },
    {
      "cell_type": "markdown",
      "source": [
        "**Pros**\n",
        "- Trains/predicts **extremely fast**; tiny memory  \n",
        "- Strong baseline for **high-dimensional sparse** data (e.g., text)  \n",
        "- **Interpretable**: additive per-feature (log) contributions  \n",
        "- Works with **small datasets** (with smoothing)\n",
        "\n",
        "**Cons**\n",
        "- Independence assumption often **violated** → overconfident probabilities  \n",
        "- **Correlated/continuous** features can hurt accuracy/calibration  \n",
        "- Effectively **linear** in chosen features; nonlinear structure needs feature engineering"
      ],
      "metadata": {
        "id": "L-8H60g6TU9J"
      }
    },
    {
      "cell_type": "markdown",
      "source": [
        "## How are Naive Bayes models trained?\n",
        "\n",
        "Estimate **priors** and **likelihood parameters** from labeled data, then classify with Bayes’ rule in log-space.\n",
        "\n",
        "---\n",
        "\n",
        "### 0) Common steps for all NB variants\n",
        "- **Prior (class frequency)**  \n",
        "  $$\\hat P(y=c)=\\frac{N_c}{N}$$\n",
        "  where $N_c$ is the number of training samples in class $c$, $N$ the total.\n",
        "\n",
        "- **Decision rule (used at prediction time)**  \n",
        "  $$\\hat y=\\arg\\max_c\\ \\log \\hat P(y=c)+\\log \\hat P(x\\mid y=c)$$\n",
        "\n",
        "This leaves the question:s **how we estimate** $\\hat P(x\\mid y=c)$.\n",
        "\n",
        "The answer? Using Likelihood models.\n",
        "\n",
        "---"
      ],
      "metadata": {
        "id": "Z8pcwgiF-x-x"
      }
    },
    {
      "cell_type": "markdown",
      "source": [
        "## Common Likelihood Models\n",
        "\n",
        "**Context.** In Naive Bayes we pick the class via  \n",
        "$$\\hat{y}=\\arg\\max_c\\; P(y=c)\\,P(x\\mid y=c),$$  \n",
        "so we **model** the class-conditional likelihood ($P(x\\mid y=c)$). The three most common choices:\n",
        "\n",
        "\n",
        "- Multinomial Likelihood\n",
        "- Bernoulli Likelihood (binary presence/absence)\n",
        "- Gaussian Likelihood (continuous features)\n",
        "---\n",
        "#### Before starting\n",
        "- Always compute decisions in **log-space** to avoid underflow;\n",
        "- Use **smoothing** ($(\\alpha$)) for discrete models; pick $(\\alpha\\in[0.1,1])$ as a start."
      ],
      "metadata": {
        "id": "jRKh32PFkztk"
      }
    },
    {
      "cell_type": "markdown",
      "source": [
        "\n",
        "### 1) Multinomial Likelihood (counts / text)\n",
        "**Use when:** features are **counts or frequencies** (bag-of-words, TF/TF-IDF\\*).  \n",
        "**Model:** words/features occur as draws from a class-specific multinomial.\n",
        "\n",
        "- Parameters: $(\\theta_{jc}=P(\\text{feature }j\\mid y=c)$), with $(\\sum_{j=1}^{V}\\theta_{jc}=1$).\n",
        "\n",
        "- Likelihood (up to a class-constant):  \n",
        "  $$\n",
        "  \\log P(x\\mid y=c)=\\sum_{j=1}^{V} x_j\\,\\log \\theta_{jc} + \\text{const}\n",
        "  $$\n",
        "- Laplace smoothing: Add-$(\\alpha$) to avoid zeros:\n",
        "  $$\n",
        "  \\hat\\theta_{jc}=\\frac{\\text{count}(j,c)+\\alpha}{\\sum_{w}\\text{count}(w,c)+\\alpha V}\n",
        "  $$\n",
        "**Pros:** excellent for sparse, high-dimensional text; fast; robust with smoothing.  \n",
        "**Cons:** assumes independence and proportionality to counts; TF-IDF may break strict multinomial assumptions.\n",
        "\n",
        "---"
      ],
      "metadata": {
        "id": "_rVcS-2_l0YV"
      }
    },
    {
      "cell_type": "markdown",
      "source": [
        "\n",
        "### 2) Bernoulli Likelihood (binary presence/absence)\n",
        "**Use when:** features are **binary** ($(x_j\\in\\{0,1\\}$)).  \n",
        "**Model:** independent class-specific coin flips per feature.\n",
        "\n",
        "- Parameters: $(\\theta_{jc}=P(x_j=1\\mid y=c)$).\n",
        "- Likelihood:\n",
        "  $$\n",
        "  P(x\\mid y=c)=\\prod_{j=1}^{p}\\theta_{jc}^{\\,x_j}\\,(1-\\theta_{jc})^{(1-x_j)}\n",
        "  $$\n",
        "  so\n",
        "  $$\n",
        "  \\log P(x\\mid y=c)=\\sum_{j=1}^{p}\\Big[ x_j\\log\\theta_{jc} + (1-x_j)\\log(1-\\theta_{jc}) \\Big]\n",
        "  $$\n",
        "- Smoothing:\n",
        "$\\theta_{jc}=\\dfrac{\\mathrm{count}(x_j=1\\mid y=c)+\\alpha}{N_c+2\\alpha}$\n",
        "\n",
        "\n",
        "**Pros:** simple for presence/absence; penalizes missing features explicitly.  \n",
        "**Cons:** ignores counts/intensity; can underperform multinomial on text.\n",
        "\n",
        "---"
      ],
      "metadata": {
        "id": "Df5_sqPUmAli"
      }
    },
    {
      "cell_type": "markdown",
      "source": [
        "### 3) Gaussian Likelihood (continuous features)\n",
        "**Use when:** features are **continuous** and roughly **unimodal** per class.  \n",
        "**Model:** each feature is Gaussian and **independent** given the class.\n",
        "\n",
        "- Parameters: per class and feature \\(($mu_{jc},\\sigma^2_{jc})$).\n",
        "- Likelihood (density):\n",
        "  $$\n",
        "  P(x\\mid y=c)=\\prod_{j=1}^{p}\\frac{1}{\\sqrt{2\\pi\\sigma_{jc}^2}}\\exp\\!\\Big(-\\frac{(x_j-\\mu_{jc})^2}{2\\sigma_{jc}^2}\\Big)\n",
        "  $$\n",
        "  hence\n",
        "  $$\n",
        "  \\log P(x\\mid y=c)=\\sum_{j=1}^{p}\\Big[-\\tfrac12\\log(2\\pi\\sigma_{jc}^2)-\\frac{(x_j-\\mu_{jc})^2}{2\\sigma_{jc}^2}\\Big]\n",
        "  $$\n",
        "- Stabilization: add small $(\\epsilon$) to variances ($(\\sigma_{jc}^2\\leftarrow\\sigma_{jc}^2+\\epsilon$)).\n",
        "\n",
        "**Pros:** fast, works with small \\(n\\), simple closed forms.  \n",
        "**Cons:** independence + Gaussian shape can be unrealistic; miscalibrated if features are correlated or multimodal.\n",
        "\n",
        "---"
      ],
      "metadata": {
        "id": "JwJyevWvmEbH"
      }
    },
    {
      "cell_type": "code",
      "source": [
        "pip install -q python-pptx nbformat\n"
      ],
      "metadata": {
        "id": "4TVKm_ypDni6"
      },
      "execution_count": null,
      "outputs": []
    },
    {
      "cell_type": "code",
      "source": [
        "# If your notebook is in Drive, mount it first\n",
        "from google.colab import drive\n",
        "drive.mount('/content/drive')\n",
        "\n",
        "# List likely places for .ipynb files\n",
        "import glob, os, textwrap\n",
        "candidates = glob.glob('/content/*.ipynb') + glob.glob('/content/drive/MyDrive/**/*.ipynb', recursive=True)\n",
        "print(\"Found notebooks:\")\n",
        "for p in candidates:\n",
        "    print(\"-\", p)\n"
      ],
      "metadata": {
        "colab": {
          "base_uri": "https://localhost:8080/"
        },
        "id": "mHZ81LLpFnVs",
        "outputId": "e6f7bf12-1b44-4e10-b671-bc998de6e89e"
      },
      "execution_count": null,
      "outputs": [
        {
          "output_type": "stream",
          "name": "stdout",
          "text": [
            "Drive already mounted at /content/drive; to attempt to forcibly remount, call drive.mount(\"/content/drive\", force_remount=True).\n",
            "Found notebooks:\n",
            "- /content/drive/MyDrive/Week 07 Group 1.ipynb\n"
          ]
        }
      ]
    },
    {
      "cell_type": "code",
      "source": [
        "\n"
      ],
      "metadata": {
        "id": "E75ox9wKIVUq"
      },
      "execution_count": null,
      "outputs": []
    },
    {
      "cell_type": "code",
      "execution_count": null,
      "metadata": {
        "id": "kYgA8xGV-UOo",
        "colab": {
          "base_uri": "https://localhost:8080/",
          "height": 38
        },
        "outputId": "6d146ac9-ccbf-4fcc-ceca-704244876c25"
      },
      "outputs": [
        {
          "output_type": "display_data",
          "data": {
            "text/plain": [
              "<IPython.core.display.HTML object>"
            ],
            "text/html": [
              "\n",
              "     <input type=\"file\" id=\"files-f7217421-d826-46e7-b6fd-9a8b83eb1d58\" name=\"files[]\" multiple disabled\n",
              "        style=\"border:none\" />\n",
              "     <output id=\"result-f7217421-d826-46e7-b6fd-9a8b83eb1d58\">\n",
              "      Upload widget is only available when the cell has been executed in the\n",
              "      current browser session. Please rerun this cell to enable.\n",
              "      </output>\n",
              "      <script>// Copyright 2017 Google LLC\n",
              "//\n",
              "// Licensed under the Apache License, Version 2.0 (the \"License\");\n",
              "// you may not use this file except in compliance with the License.\n",
              "// You may obtain a copy of the License at\n",
              "//\n",
              "//      http://www.apache.org/licenses/LICENSE-2.0\n",
              "//\n",
              "// Unless required by applicable law or agreed to in writing, software\n",
              "// distributed under the License is distributed on an \"AS IS\" BASIS,\n",
              "// WITHOUT WARRANTIES OR CONDITIONS OF ANY KIND, either express or implied.\n",
              "// See the License for the specific language governing permissions and\n",
              "// limitations under the License.\n",
              "\n",
              "/**\n",
              " * @fileoverview Helpers for google.colab Python module.\n",
              " */\n",
              "(function(scope) {\n",
              "function span(text, styleAttributes = {}) {\n",
              "  const element = document.createElement('span');\n",
              "  element.textContent = text;\n",
              "  for (const key of Object.keys(styleAttributes)) {\n",
              "    element.style[key] = styleAttributes[key];\n",
              "  }\n",
              "  return element;\n",
              "}\n",
              "\n",
              "// Max number of bytes which will be uploaded at a time.\n",
              "const MAX_PAYLOAD_SIZE = 100 * 1024;\n",
              "\n",
              "function _uploadFiles(inputId, outputId) {\n",
              "  const steps = uploadFilesStep(inputId, outputId);\n",
              "  const outputElement = document.getElementById(outputId);\n",
              "  // Cache steps on the outputElement to make it available for the next call\n",
              "  // to uploadFilesContinue from Python.\n",
              "  outputElement.steps = steps;\n",
              "\n",
              "  return _uploadFilesContinue(outputId);\n",
              "}\n",
              "\n",
              "// This is roughly an async generator (not supported in the browser yet),\n",
              "// where there are multiple asynchronous steps and the Python side is going\n",
              "// to poll for completion of each step.\n",
              "// This uses a Promise to block the python side on completion of each step,\n",
              "// then passes the result of the previous step as the input to the next step.\n",
              "function _uploadFilesContinue(outputId) {\n",
              "  const outputElement = document.getElementById(outputId);\n",
              "  const steps = outputElement.steps;\n",
              "\n",
              "  const next = steps.next(outputElement.lastPromiseValue);\n",
              "  return Promise.resolve(next.value.promise).then((value) => {\n",
              "    // Cache the last promise value to make it available to the next\n",
              "    // step of the generator.\n",
              "    outputElement.lastPromiseValue = value;\n",
              "    return next.value.response;\n",
              "  });\n",
              "}\n",
              "\n",
              "/**\n",
              " * Generator function which is called between each async step of the upload\n",
              " * process.\n",
              " * @param {string} inputId Element ID of the input file picker element.\n",
              " * @param {string} outputId Element ID of the output display.\n",
              " * @return {!Iterable<!Object>} Iterable of next steps.\n",
              " */\n",
              "function* uploadFilesStep(inputId, outputId) {\n",
              "  const inputElement = document.getElementById(inputId);\n",
              "  inputElement.disabled = false;\n",
              "\n",
              "  const outputElement = document.getElementById(outputId);\n",
              "  outputElement.innerHTML = '';\n",
              "\n",
              "  const pickedPromise = new Promise((resolve) => {\n",
              "    inputElement.addEventListener('change', (e) => {\n",
              "      resolve(e.target.files);\n",
              "    });\n",
              "  });\n",
              "\n",
              "  const cancel = document.createElement('button');\n",
              "  inputElement.parentElement.appendChild(cancel);\n",
              "  cancel.textContent = 'Cancel upload';\n",
              "  const cancelPromise = new Promise((resolve) => {\n",
              "    cancel.onclick = () => {\n",
              "      resolve(null);\n",
              "    };\n",
              "  });\n",
              "\n",
              "  // Wait for the user to pick the files.\n",
              "  const files = yield {\n",
              "    promise: Promise.race([pickedPromise, cancelPromise]),\n",
              "    response: {\n",
              "      action: 'starting',\n",
              "    }\n",
              "  };\n",
              "\n",
              "  cancel.remove();\n",
              "\n",
              "  // Disable the input element since further picks are not allowed.\n",
              "  inputElement.disabled = true;\n",
              "\n",
              "  if (!files) {\n",
              "    return {\n",
              "      response: {\n",
              "        action: 'complete',\n",
              "      }\n",
              "    };\n",
              "  }\n",
              "\n",
              "  for (const file of files) {\n",
              "    const li = document.createElement('li');\n",
              "    li.append(span(file.name, {fontWeight: 'bold'}));\n",
              "    li.append(span(\n",
              "        `(${file.type || 'n/a'}) - ${file.size} bytes, ` +\n",
              "        `last modified: ${\n",
              "            file.lastModifiedDate ? file.lastModifiedDate.toLocaleDateString() :\n",
              "                                    'n/a'} - `));\n",
              "    const percent = span('0% done');\n",
              "    li.appendChild(percent);\n",
              "\n",
              "    outputElement.appendChild(li);\n",
              "\n",
              "    const fileDataPromise = new Promise((resolve) => {\n",
              "      const reader = new FileReader();\n",
              "      reader.onload = (e) => {\n",
              "        resolve(e.target.result);\n",
              "      };\n",
              "      reader.readAsArrayBuffer(file);\n",
              "    });\n",
              "    // Wait for the data to be ready.\n",
              "    let fileData = yield {\n",
              "      promise: fileDataPromise,\n",
              "      response: {\n",
              "        action: 'continue',\n",
              "      }\n",
              "    };\n",
              "\n",
              "    // Use a chunked sending to avoid message size limits. See b/62115660.\n",
              "    let position = 0;\n",
              "    do {\n",
              "      const length = Math.min(fileData.byteLength - position, MAX_PAYLOAD_SIZE);\n",
              "      const chunk = new Uint8Array(fileData, position, length);\n",
              "      position += length;\n",
              "\n",
              "      const base64 = btoa(String.fromCharCode.apply(null, chunk));\n",
              "      yield {\n",
              "        response: {\n",
              "          action: 'append',\n",
              "          file: file.name,\n",
              "          data: base64,\n",
              "        },\n",
              "      };\n",
              "\n",
              "      let percentDone = fileData.byteLength === 0 ?\n",
              "          100 :\n",
              "          Math.round((position / fileData.byteLength) * 100);\n",
              "      percent.textContent = `${percentDone}% done`;\n",
              "\n",
              "    } while (position < fileData.byteLength);\n",
              "  }\n",
              "\n",
              "  // All done.\n",
              "  yield {\n",
              "    response: {\n",
              "      action: 'complete',\n",
              "    }\n",
              "  };\n",
              "}\n",
              "\n",
              "scope.google = scope.google || {};\n",
              "scope.google.colab = scope.google.colab || {};\n",
              "scope.google.colab._files = {\n",
              "  _uploadFiles,\n",
              "  _uploadFilesContinue,\n",
              "};\n",
              "})(self);\n",
              "</script> "
            ]
          },
          "metadata": {}
        }
      ],
      "source": [
        "from google.colab import files\n",
        "\n",
        "#https://archive.ics.uci.edu/ml/datasets/SMS+Spam+Collection\n",
        "\n",
        "uploaded = files.upload()\n",
        "\n",
        "for fn in uploaded.keys():\n",
        "  print('User uploaded file \"{name}\" with length {length} bytes'.format(\n",
        "      name=fn, length=len(uploaded[fn])))"
      ]
    },
    {
      "cell_type": "code",
      "source": [
        "import io\n",
        "import pandas as pd\n",
        "import numpy as np\n",
        "import matplotlib.pyplot as plt\n",
        "import seaborn as sns\n",
        "from sklearn.model_selection import train_test_split, cross_val_score\n",
        "from sklearn.feature_extraction.text import CountVectorizer, TfidfVectorizer\n",
        "from sklearn.naive_bayes import MultinomialNB, BernoulliNB, GaussianNB, ComplementNB\n",
        "from sklearn.metrics import ConfusionMatrixDisplay, classification_report, confusion_matrix, accuracy_score, precision_score, recall_score, f1_score\n",
        "from sklearn.pipeline import Pipeline\n",
        "import string\n",
        "from collections import Counter\n",
        "import warnings\n",
        "warnings.filterwarnings('ignore')\n"
      ],
      "metadata": {
        "id": "gMYG7_WSgtFb"
      },
      "execution_count": null,
      "outputs": []
    },
    {
      "cell_type": "code",
      "source": [
        "# Create DataFrame\n",
        "filename = list(uploaded.keys())[0]\n",
        "df = pd.read_csv(filename, sep='\\t', names=['label', 'messages'])\n",
        "#df = pd.read_csv(io.BytesIO(uploaded[filename]))\n",
        "print(f\"df shape: {df.shape}\")\n",
        "\n",
        "df.head()"
      ],
      "metadata": {
        "colab": {
          "base_uri": "https://localhost:8080/",
          "height": 211
        },
        "id": "5KG4XfV6g13Z",
        "outputId": "490f8dd4-11cb-4329-dd72-13235278d210"
      },
      "execution_count": null,
      "outputs": [
        {
          "output_type": "error",
          "ename": "IndexError",
          "evalue": "list index out of range",
          "traceback": [
            "\u001b[0;31m---------------------------------------------------------------------------\u001b[0m",
            "\u001b[0;31mIndexError\u001b[0m                                Traceback (most recent call last)",
            "\u001b[0;32m/tmp/ipython-input-211013232.py\u001b[0m in \u001b[0;36m<cell line: 0>\u001b[0;34m()\u001b[0m\n\u001b[1;32m      1\u001b[0m \u001b[0;31m# Create DataFrame\u001b[0m\u001b[0;34m\u001b[0m\u001b[0;34m\u001b[0m\u001b[0m\n\u001b[0;32m----> 2\u001b[0;31m \u001b[0mfilename\u001b[0m \u001b[0;34m=\u001b[0m \u001b[0mlist\u001b[0m\u001b[0;34m(\u001b[0m\u001b[0muploaded\u001b[0m\u001b[0;34m.\u001b[0m\u001b[0mkeys\u001b[0m\u001b[0;34m(\u001b[0m\u001b[0;34m)\u001b[0m\u001b[0;34m)\u001b[0m\u001b[0;34m[\u001b[0m\u001b[0;36m0\u001b[0m\u001b[0;34m]\u001b[0m\u001b[0;34m\u001b[0m\u001b[0;34m\u001b[0m\u001b[0m\n\u001b[0m\u001b[1;32m      3\u001b[0m \u001b[0mdf\u001b[0m \u001b[0;34m=\u001b[0m \u001b[0mpd\u001b[0m\u001b[0;34m.\u001b[0m\u001b[0mread_csv\u001b[0m\u001b[0;34m(\u001b[0m\u001b[0mfilename\u001b[0m\u001b[0;34m,\u001b[0m \u001b[0msep\u001b[0m\u001b[0;34m=\u001b[0m\u001b[0;34m'\\t'\u001b[0m\u001b[0;34m,\u001b[0m \u001b[0mnames\u001b[0m\u001b[0;34m=\u001b[0m\u001b[0;34m[\u001b[0m\u001b[0;34m'label'\u001b[0m\u001b[0;34m,\u001b[0m \u001b[0;34m'messages'\u001b[0m\u001b[0;34m]\u001b[0m\u001b[0;34m)\u001b[0m\u001b[0;34m\u001b[0m\u001b[0;34m\u001b[0m\u001b[0m\n\u001b[1;32m      4\u001b[0m \u001b[0;31m#df = pd.read_csv(io.BytesIO(uploaded[filename]))\u001b[0m\u001b[0;34m\u001b[0m\u001b[0;34m\u001b[0m\u001b[0m\n\u001b[1;32m      5\u001b[0m \u001b[0mprint\u001b[0m\u001b[0;34m(\u001b[0m\u001b[0;34mf\"df shape: {df.shape}\"\u001b[0m\u001b[0;34m)\u001b[0m\u001b[0;34m\u001b[0m\u001b[0;34m\u001b[0m\u001b[0m\n",
            "\u001b[0;31mIndexError\u001b[0m: list index out of range"
          ]
        }
      ]
    },
    {
      "cell_type": "code",
      "source": [
        "def preprocess_text(text):\n",
        "    # Convert to lowercase\n",
        "    text = text.lower()\n",
        "    # Remove punctuation\n",
        "    text = text.translate(str.maketrans('', '', string.punctuation))\n",
        "    # Keep only 1 space\n",
        "    text = ' '.join(text.split())\n",
        "    return text\n",
        "\n",
        "# Apply\n",
        "df['cleaned_text'] = df['messages'].apply(preprocess_text)\n",
        "df = df.drop_duplicates(subset='cleaned_text')\n",
        "print(f\"df shape: {df.shape}\")\n",
        "df.head(5)\n"
      ],
      "metadata": {
        "id": "TuNeQJ4iDRlT"
      },
      "execution_count": null,
      "outputs": []
    },
    {
      "cell_type": "code",
      "source": [
        "\n",
        "X_train, X_test, y_train, y_test = train_test_split(\n",
        "    df['cleaned_text'],\n",
        "    df['label'],\n",
        "    test_size=0.2,\n",
        "    random_state=42,\n",
        "    stratify=df['label'])\n",
        "\n",
        "# Train\n",
        "vec = CountVectorizer()\n",
        "X_train_vec = vec.fit_transform(X_train)\n",
        "X_test_vec = vec.transform(X_test)\n",
        "\n",
        "model = MultinomialNB()\n",
        "model.fit(X_train_vec, y_train)\n",
        "\n",
        "# Predict\n",
        "y_pred = model.predict(X_test_vec)\n",
        "\n",
        "# Confusion matrix\n",
        "cm = confusion_matrix(y_test, y_pred, labels=['ham', 'spam'])\n",
        "disp = ConfusionMatrixDisplay(confusion_matrix=cm, display_labels=['ham', 'spam'])\n",
        "disp.plot(cmap='Blues')\n",
        "plt.show()\n",
        "\n",
        "# Evaluation metrics\n",
        "print(f\"Accuracy : {accuracy_score(y_test, y_pred):.3f}\")\n",
        "print(f\"Precision: {precision_score(y_test, y_pred, pos_label='spam'):.3f}\")\n",
        "print(f\"Recall   : {recall_score(y_test, y_pred, pos_label='spam'):.3f}\")\n",
        "print(f\"F1-score : {f1_score(y_test, y_pred, pos_label='spam'):.3f}\")"
      ],
      "metadata": {
        "id": "wGdjLtbCbm5B"
      },
      "execution_count": null,
      "outputs": []
    },
    {
      "cell_type": "code",
      "source": [
        "feature_names = np.array(vec.get_feature_names_out())\n",
        "log_prob_spam = model.feature_log_prob_[1]          # class 1 = spam\n",
        "log_prob_ham  = model.feature_log_prob_[0]          # class 0 = ham\n",
        "\n",
        "# top 5 spam-indicative words\n",
        "top_spam = feature_names[np.argsort(log_prob_spam - log_prob_ham)[-5:]]\n",
        "print(\"Top spam words:\", list(reversed(top_spam)))"
      ],
      "metadata": {
        "id": "BvKmi6fJFlx3"
      },
      "execution_count": null,
      "outputs": []
    },
    {
      "cell_type": "code",
      "source": [
        "# Tools\n",
        "!apt-get -qq update && apt-get -qq install -y pandoc\n",
        "!pip -q install \"nbconvert>=7.10\" jupyterlab_pygments\n",
        "\n",
        "# Convert to Markdown WITHOUT executing\n",
        "!jupyter nbconvert --to markdown \"/content/drive/MyDrive/Week 07 Group 1.ipynb\" \\\n",
        "  --output-dir=/content/nb_md --TemplateExporter.exclude_input=True\n",
        "\n",
        "# Convert Markdown -> PPTX\n",
        "!pandoc \"/content/nb_md/Week 07 Group 1.md\" \\\n",
        "  --resource-path=\"/content/nb_md:/content/drive/MyDrive\" \\\n",
        "  --standalone -o \"/content/Week 07 Group 1.pptx\"\n",
        "\n",
        "from google.colab import files\n",
        "files.download(\"/content/Week 07 Group 1.pptx\")\n",
        "\n"
      ],
      "metadata": {
        "colab": {
          "base_uri": "https://localhost:8080/",
          "height": 89
        },
        "id": "7ldNWBypM1XN",
        "outputId": "cfb68acc-a908-43f3-95c1-c4c57763e33d"
      },
      "execution_count": null,
      "outputs": [
        {
          "output_type": "stream",
          "name": "stdout",
          "text": [
            "W: Skipping acquire of configured file 'main/source/Sources' as repository 'https://r2u.stat.illinois.edu/ubuntu jammy InRelease' does not seem to provide it (sources.list entry misspelt?)\n",
            "[NbConvertApp] Converting notebook /content/drive/MyDrive/Week 07 Group 1.ipynb to markdown\n",
            "[NbConvertApp] Writing 11218 bytes to /content/nb_md/Week 07 Group 1.md\n"
          ]
        },
        {
          "output_type": "display_data",
          "data": {
            "text/plain": [
              "<IPython.core.display.Javascript object>"
            ],
            "application/javascript": [
              "\n",
              "    async function download(id, filename, size) {\n",
              "      if (!google.colab.kernel.accessAllowed) {\n",
              "        return;\n",
              "      }\n",
              "      const div = document.createElement('div');\n",
              "      const label = document.createElement('label');\n",
              "      label.textContent = `Downloading \"${filename}\": `;\n",
              "      div.appendChild(label);\n",
              "      const progress = document.createElement('progress');\n",
              "      progress.max = size;\n",
              "      div.appendChild(progress);\n",
              "      document.body.appendChild(div);\n",
              "\n",
              "      const buffers = [];\n",
              "      let downloaded = 0;\n",
              "\n",
              "      const channel = await google.colab.kernel.comms.open(id);\n",
              "      // Send a message to notify the kernel that we're ready.\n",
              "      channel.send({})\n",
              "\n",
              "      for await (const message of channel.messages) {\n",
              "        // Send a message to notify the kernel that we're ready.\n",
              "        channel.send({})\n",
              "        if (message.buffers) {\n",
              "          for (const buffer of message.buffers) {\n",
              "            buffers.push(buffer);\n",
              "            downloaded += buffer.byteLength;\n",
              "            progress.value = downloaded;\n",
              "          }\n",
              "        }\n",
              "      }\n",
              "      const blob = new Blob(buffers, {type: 'application/binary'});\n",
              "      const a = document.createElement('a');\n",
              "      a.href = window.URL.createObjectURL(blob);\n",
              "      a.download = filename;\n",
              "      div.appendChild(a);\n",
              "      a.click();\n",
              "      div.remove();\n",
              "    }\n",
              "  "
            ]
          },
          "metadata": {}
        },
        {
          "output_type": "display_data",
          "data": {
            "text/plain": [
              "<IPython.core.display.Javascript object>"
            ],
            "application/javascript": [
              "download(\"download_9fa4d4f3-7f7e-40ab-b1b2-726ed3c20fc1\", \"Week 07 Group 1.pptx\", 39509)"
            ]
          },
          "metadata": {}
        }
      ]
    }
  ]
}