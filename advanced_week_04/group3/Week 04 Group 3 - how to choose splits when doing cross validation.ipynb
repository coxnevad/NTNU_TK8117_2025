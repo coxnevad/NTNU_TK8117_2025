{
  "nbformat": 4,
  "nbformat_minor": 0,
  "metadata": {
    "colab": {
      "provenance": []
    },
    "kernelspec": {
      "name": "python3",
      "display_name": "Python 3"
    },
    "language_info": {
      "name": "python"
    }
  },
  "cells": [
    {
      "cell_type": "markdown",
      "source": [
        "# How to choose splits when doing cross validation\n",
        "_Group 3 Presentation_\n",
        "\n",
        "Validation"
      ],
      "metadata": {
        "id": "3Tc3WzP6BfOH"
      }
    },
    {
      "cell_type": "markdown",
      "source": [
        "## Quick recap\n",
        " - Training, validation and testing dataset\n",
        " - Cross validation\n",
        "    - Split into folds\n",
        "    - Train subset\n",
        "    - Validate on remaining\n",
        "    - Repeat\n",
        "- Goals\n",
        "    - Not to achieve the \"best scores\"\n",
        "    - Accurate representation of performance"
      ],
      "metadata": {
        "id": "u9rlDIMhL5QB"
      }
    },
    {
      "cell_type": "code",
      "execution_count": null,
      "metadata": {
        "id": "aDE-Ugrl_LKW"
      },
      "outputs": [],
      "source": [
        "#setup\n",
        "import numpy as np\n",
        "import pandas as pd\n",
        "import matplotlib.pyplot as plt\n",
        "from matplotlib.patches import Patch\n",
        "\n",
        "# If using scikit-learn examples\n",
        "from sklearn.model_selection import (KFold, StratifiedKFold, GroupKFold,\n",
        "                                     StratifiedGroupKFold, TimeSeriesSplit)\n",
        "from sklearn.linear_model import LogisticRegression, Ridge, Lasso, LinearRegression\n",
        "from sklearn.metrics import accuracy_score, f1_score, roc_auc_score, mean_absolute_error, mean_squared_error\n",
        "from sklearn.preprocessing import StandardScaler\n",
        "from sklearn.pipeline import Pipeline\n",
        "from sklearn.base import BaseEstimator, TransformerMixin\n",
        "from typing import Iterator, Optional, Tuple\n",
        "\n",
        "rng = np.random.RandomState(1338)\n",
        "cmap_data = plt.cm.Paired\n",
        "cmap_cv = plt.cm.coolwarm\n",
        "\n",
        "# code for plotting cv splits\n",
        "# (https://scikit-learn.org/stable/auto_examples/model_selection/plot_cv_indices.html)\n",
        "def plot_cv_indices(cv, X, y, group, ax, n_splits, lw=10, classes=True, title=None):\n",
        "    \"\"\"Create a sample plot for indices of a cross-validation object.\"\"\"\n",
        "    use_groups = \"Group\" in type(cv).__name__\n",
        "    groups = group if use_groups else None\n",
        "    # Generate the training/testing visualizations for each CV split\n",
        "    for ii, (tr, tt) in enumerate(cv.split(X=X, y=y, groups=groups)):\n",
        "        # Fill in indices with the training/test groups\n",
        "        indices = np.array([np.nan] * len(X))\n",
        "        indices[tt] = 1\n",
        "        indices[tr] = 0\n",
        "\n",
        "        # Visualize the results\n",
        "        ax.scatter(\n",
        "            range(len(indices)),\n",
        "            [ii + 0.5] * len(indices),\n",
        "            c=indices,\n",
        "            marker=\"_\",\n",
        "            lw=lw,\n",
        "            cmap=cmap_cv,\n",
        "            vmin=-0.2,\n",
        "            vmax=1.2,\n",
        "        )\n",
        "    yticklabels = list(range(n_splits))\n",
        "\n",
        "    # Plot the data classes and groups at the end\n",
        "    if classes:\n",
        "      ax.scatter(\n",
        "          range(len(X)), [ii + 1.5] * len(X), c=y, marker=\"_\", lw=lw, cmap=cmap_data\n",
        "      )\n",
        "      yticklabels += [\"class\"]\n",
        "    if group is not None:\n",
        "      ax.scatter(\n",
        "          range(len(X)), [ii + 2.5] * len(X), c=group, marker=\"_\", lw=lw, cmap=cmap_data\n",
        "      )\n",
        "      yticklabels += [\"group\"]\n",
        "\n",
        "    # Formatting\n",
        "    ax.set(\n",
        "        yticks=np.arange(len(yticklabels)) + 0.5,\n",
        "        yticklabels=yticklabels,\n",
        "        xlabel=\"Sample index\",\n",
        "        ylabel=\"CV iteration\",\n",
        "        ylim=[len(yticklabels) + 0.2, -0.2],\n",
        "        xlim=[0, X.shape[0]],\n",
        "    )\n",
        "    if title is None:\n",
        "      ax.set_title(\"{}\".format(type(cv).__name__), fontsize=15)\n",
        "    else:\n",
        "      ax.set_title(title, fontsize=15)\n",
        "    return ax\n",
        "\n",
        "\n",
        "\n",
        "class SlidingWindowSplit:\n",
        "    \"\"\"\n",
        "    Sliding-window cross-validator for time-ordered data.\n",
        "\n",
        "    Produces train/test indices such that:\n",
        "      - Train window is a fixed length: [start, start + train_size)\n",
        "      - Optional gap (embargo) between train end and test start\n",
        "      - Test window is a fixed length: [train_end + gap, train_end + gap + test_size)\n",
        "      - The window slides forward by 'step' each split (default = test_size)\n",
        "\n",
        "    Parameters\n",
        "    ----------\n",
        "    n_splits : int or None, default=None\n",
        "        Maximum number of splits to yield. If None, yields all feasible windows\n",
        "        until the end of the sequence is reached.\n",
        "    train_size : int\n",
        "        Number of samples in each training window (fixed).\n",
        "    test_size : int\n",
        "        Number of samples in each test window (fixed).\n",
        "    gap : int, default=0\n",
        "        Number of samples to skip between the end of train and start of test\n",
        "        to mitigate leakage (embargo).\n",
        "    step : int or None, default=None\n",
        "        How many samples the window advances between splits.\n",
        "        If None, defaults to test_size (non-overlapping test windows).\n",
        "\n",
        "    Notes\n",
        "    -----\n",
        "    - Assumes X is **time-ordered** along axis 0.\n",
        "    - Ignores `groups`, like most scikit-learn CV splitters (except GroupKFold).\n",
        "    - Similar interface to scikit-learn's TimeSeriesSplit, but with a **fixed**\n",
        "      training window (sliding) instead of expanding window.\n",
        "\n",
        "    Examples\n",
        "    --------\n",
        "    >>> import numpy as np\n",
        "    >>> X = np.arange(20)  # 20 time steps\n",
        "    >>> cv = SlidingWindowSplit(train_size=8, test_size=4, gap=1, step=4)\n",
        "    >>> for tr_idx, te_idx in cv.split(X):\n",
        "    ...     print(tr_idx, '->', te_idx)\n",
        "    [0 1 2 3 4 5 6 7] -> [ 9 10 11 12]\n",
        "    [ 4  5  6  7  8  9 10 11] -> [13 14 15 16]\n",
        "\n",
        "    In the first split:\n",
        "      - train: indices 0:8\n",
        "      - gap=1: index 8 is embargoed\n",
        "      - test: indices 9:13 (length 4)\n",
        "    Then the window advances by step=4.\n",
        "    \"\"\"\n",
        "\n",
        "    def __init__(\n",
        "        self,\n",
        "        *,\n",
        "        n_splits: Optional[int] = None,\n",
        "        train_size: Optional[int] = None,\n",
        "        test_size: Optional[int] = None,\n",
        "        gap: int = 0,\n",
        "        step: Optional[int] = None,\n",
        "    ) -> None:\n",
        "        if train_size is None or test_size is None:\n",
        "            raise ValueError(\"Both 'train_size' and 'test_size' must be provided.\")\n",
        "        if train_size <= 0 or test_size <= 0:\n",
        "            raise ValueError(\"'train_size' and 'test_size' must be positive integers.\")\n",
        "        if gap < 0:\n",
        "            raise ValueError(\"'gap' must be >= 0.\")\n",
        "        if n_splits is not None and n_splits <= 0:\n",
        "            raise ValueError(\"'n_splits' must be a positive integer or None.\")\n",
        "        if step is not None and step <= 0:\n",
        "            raise ValueError(\"'step' must be a positive integer or None.\")\n",
        "\n",
        "        self.n_splits = n_splits\n",
        "        self.train_size = int(train_size)\n",
        "        self.test_size = int(test_size)\n",
        "        self.gap = int(gap)\n",
        "        self.step = int(step) if step is not None else None\n",
        "\n",
        "    def get_n_splits(self, X=None, y=None, groups=None) -> int:\n",
        "        \"\"\"\n",
        "        Return the number of splits. If n_splits was specified, returns it.\n",
        "        Otherwise, requires X to compute the maximum feasible number of splits.\n",
        "        \"\"\"\n",
        "        if self.n_splits is not None:\n",
        "            return self.n_splits\n",
        "        if X is None:\n",
        "            raise ValueError(\n",
        "                \"X must be provided to compute the number of feasible splits \"\n",
        "                \"when 'n_splits=None'.\"\n",
        "            )\n",
        "        n_samples = self._num_samples(X)\n",
        "        return self._max_feasible_splits(n_samples)\n",
        "\n",
        "    def split(self, X, y=None, groups=None) -> Iterator[Tuple[np.ndarray, np.ndarray]]:\n",
        "        \"\"\"\n",
        "        Generate indices to split data into training and test set.\n",
        "\n",
        "        Parameters\n",
        "        ----------\n",
        "        X : array-like of shape (n_samples, ...)\n",
        "            Time-ordered data along axis 0.\n",
        "        y : Ignored\n",
        "        groups : Ignored\n",
        "        \"\"\"\n",
        "        n_samples = self._num_samples(X)\n",
        "\n",
        "        step = self.step if self.step is not None else self.test_size\n",
        "        total_needed = self.train_size + self.gap + self.test_size\n",
        "\n",
        "        if n_samples < total_needed:\n",
        "            raise ValueError(\n",
        "                \"Not enough samples for a single split: need at least \"\n",
        "                f\"train_size + gap + test_size = {total_needed}, got {n_samples}.\"\n",
        "            )\n",
        "\n",
        "        # How many starts are possible if we slide by 'step'?\n",
        "        max_start = n_samples - total_needed\n",
        "        feasible = max_start // step + 1\n",
        "        n_yield = feasible if self.n_splits is None else min(self.n_splits, feasible)\n",
        "\n",
        "        for i in range(n_yield):\n",
        "            start = i * step\n",
        "            tr_start = start\n",
        "            tr_end = tr_start + self.train_size\n",
        "            te_start = tr_end + self.gap\n",
        "            te_end = te_start + self.test_size\n",
        "\n",
        "            train_idx = np.arange(tr_start, tr_end, dtype=int)\n",
        "            test_idx = np.arange(te_start, te_end, dtype=int)\n",
        "\n",
        "            # Safety checks (should hold by construction)\n",
        "            if train_idx.size != self.train_size or test_idx.size != self.test_size:\n",
        "                # This should not trigger if calculations are correct\n",
        "                continue\n",
        "            if te_end > n_samples:\n",
        "                break\n",
        "\n",
        "            yield train_idx, test_idx\n",
        "\n",
        "    # ---- helpers ----\n",
        "    @staticmethod\n",
        "    def _num_samples(X) -> int:\n",
        "        try:\n",
        "            return len(X)\n",
        "        except TypeError:\n",
        "            # Fallback: numpy-like\n",
        "            return X.shape[0]\n",
        "\n",
        "    def _max_feasible_splits(self, n_samples: int) -> int:\n",
        "        step = self.step if self.step is not None else self.test_size\n",
        "        total_needed = self.train_size + self.gap + self.test_size\n",
        "        if n_samples < total_needed:\n",
        "            return 0\n",
        "        max_start = n_samples - total_needed\n",
        "        return max_start // step + 1\n",
        "\n",
        "    def __repr__(self) -> str:\n",
        "        return (\n",
        "            f\"SlidingWindowSplit(n_splits={self.n_splits}, train_size={self.train_size}, \"\n",
        "            f\"test_size={self.test_size}, gap={self.gap}, step={self.step})\"\n",
        "        )\n"
      ]
    },
    {
      "cell_type": "markdown",
      "source": [
        "## Non-timeseries data\n",
        "\n",
        "Non–time series data is data without an inherent temporal order—rows don’t represent a sequence over time to be respected during modeling. Samples may be independent (i.i.d.) or have other structures (groups, spatial correlation, class imbalance), but there’s no built-in “past→future” direction as in time series. Typical examples: tabular datasets of patients, buildings, products, or images where order can be shuffled without violating the problem."
      ],
      "metadata": {
        "id": "Vc-5zFUbBv7N"
      }
    },
    {
      "cell_type": "markdown",
      "source": [
        "Code: Setup + Data + Helpers. About the dataset: The Palmer Penguins dataset contains measurements on 344 penguins from three species (Adelie, Chinstrap, Gentoo) collected on three islands (Biscoe, Dream, Torgersen) in the Palmer Archipelago, Antarctica, with features including bill length and depth (mm), flipper length (mm), body mass (g), and sex (male/female); it is widely used as a clean, modern alternative to the Iris dataset for classification tasks and is particularly useful for demonstrating cross-validation methods because the island variable provides a natural grouping factor for GroupKFold."
      ],
      "metadata": {
        "id": "TIAkkUlgrLOx"
      }
    },
    {
      "cell_type": "code",
      "source": [
        "# ===== Setup =====\n",
        "import time\n",
        "import numpy as np\n",
        "import pandas as pd\n",
        "import matplotlib.pyplot as plt\n",
        "import textwrap\n",
        "from IPython.display import display\n",
        "\n",
        "from sklearn.datasets import fetch_openml\n",
        "from sklearn.model_selection import (\n",
        "    KFold, StratifiedKFold, GroupKFold, LeaveOneOut, LeavePOut, cross_val_score\n",
        ")\n",
        "from sklearn.pipeline import Pipeline\n",
        "from sklearn.compose import ColumnTransformer\n",
        "from sklearn.preprocessing import StandardScaler, OneHotEncoder\n",
        "from sklearn.linear_model import LogisticRegression\n",
        "\n",
        "np.random.seed(42)\n",
        "\n",
        "# ===== Load Palmer Penguins (needs internet first run) =====\n",
        "peng = fetch_openml(\"penguins\", version=1, as_frame=True)\n",
        "df = peng.frame\n",
        "\n",
        "# Normalize column names (OpenML variants)\n",
        "df = df.rename(columns={\n",
        "    \"culmen_length_mm\": \"bill_length_mm\",\n",
        "    \"culmen_depth_mm\": \"bill_depth_mm\",\n",
        "})\n",
        "\n",
        "# Keep required columns and drop missing rows (small dataset → simple demo)\n",
        "needed = [\n",
        "    \"species\", \"island\", \"bill_length_mm\", \"bill_depth_mm\",\n",
        "    \"flipper_length_mm\", \"body_mass_g\", \"sex\"\n",
        "]\n",
        "df = df[needed].dropna().reset_index(drop=True)\n",
        "\n",
        "# Split target, groups, features\n",
        "y = df[\"species\"]\n",
        "groups = df[\"island\"]\n",
        "X = df.drop(columns=[\"species\", \"island\"])\n",
        "\n",
        "# Preprocessing + model pipeline (no leakage during CV)\n",
        "numeric_features = [\"bill_length_mm\", \"bill_depth_mm\", \"flipper_length_mm\", \"body_mass_g\"]\n",
        "categorical_features = [\"sex\"]\n",
        "\n",
        "preproc = ColumnTransformer(\n",
        "    transformers=[\n",
        "        (\"num\", StandardScaler(), numeric_features),\n",
        "        (\"cat\", OneHotEncoder(handle_unknown=\"ignore\"), categorical_features),\n",
        "    ]\n",
        ")\n",
        "\n",
        "clf_pipe = Pipeline([\n",
        "    (\"preproc\", preproc),\n",
        "    (\"clf\", LogisticRegression(max_iter=2000, solver=\"lbfgs\")),\n",
        "])\n",
        "\n",
        "print(f\"Rows after cleaning: {len(df)}; classes: {y.unique().tolist()}; islands (groups): {groups.unique().tolist()}\")\n",
        "\n",
        "# ===== Helpers =====\n",
        "def summarize_scores(name, scores, start_time):\n",
        "    duration = time.time() - start_time\n",
        "    return {\n",
        "        \"method\": name,\n",
        "        \"mean\": float(np.mean(scores)),\n",
        "        \"std\": float(np.std(scores)),\n",
        "        \"n_folds\": int(len(scores)),\n",
        "        \"time_sec\": duration,\n",
        "    }\n",
        "\n",
        "def barplot_mean_std(df_plot, title=None):\n",
        "    fig, ax = plt.subplots(figsize=(10.5, 5))\n",
        "    labels = [\"\\n\".join(textwrap.wrap(m, width=18)) for m in df_plot[\"method\"]]\n",
        "    ax.bar(labels, df_plot[\"mean\"], yerr=df_plot[\"std\"], capsize=6)\n",
        "    ax.set_ylabel(\"Accuracy (mean ± std)\")\n",
        "    if title:\n",
        "        ax.set_title(title)\n",
        "    ax.tick_params(axis=\"x\", labelsize=10)\n",
        "    ax.yaxis.grid(True, linestyle=\"--\", alpha=0.3)\n",
        "    plt.tight_layout()\n",
        "    plt.show()\n",
        "\n",
        "# Collect results across cells\n",
        "summaries = []\n"
      ],
      "metadata": {
        "id": "SEzOnjZ7CIrA",
        "colab": {
          "base_uri": "https://localhost:8080/"
        },
        "outputId": "784ecf86-fc1d-428e-bab7-5c558be2e303"
      },
      "execution_count": null,
      "outputs": [
        {
          "output_type": "stream",
          "name": "stdout",
          "text": [
            "Rows after cleaning: 334; classes: ['Adelie', 'Chinstrap', 'Gentoo']; islands (groups): ['Torgersen', 'Biscoe', 'Dream']\n"
          ]
        }
      ]
    },
    {
      "cell_type": "markdown",
      "source": [
        "K-Fold: Split data into k equal folds; train on k−1, validate on 1; repeat k times and average."
      ],
      "metadata": {
        "id": "26gNB7CyppVF"
      }
    },
    {
      "cell_type": "code",
      "source": [
        "start = time.time()\n",
        "kf = KFold(n_splits=5, shuffle=True, random_state=42)\n",
        "kf_scores = cross_val_score(clf_pipe, X, y, cv=kf, scoring=\"accuracy\")\n",
        "kf_summary = summarize_scores(\"KFold (k=5)\", kf_scores, start)\n",
        "summaries.append(kf_summary)\n",
        "\n",
        "print(\"K-Fold (k=5) results:\")\n",
        "display(pd.DataFrame([kf_summary]).round(4))\n"
      ],
      "metadata": {
        "colab": {
          "base_uri": "https://localhost:8080/",
          "height": 98
        },
        "id": "Sq07rMufprBd",
        "outputId": "6c5d1bc3-6a06-4af2-bf47-79e0026b5284"
      },
      "execution_count": null,
      "outputs": [
        {
          "output_type": "stream",
          "name": "stdout",
          "text": [
            "K-Fold (k=5) results:\n"
          ]
        },
        {
          "output_type": "display_data",
          "data": {
            "text/plain": [
              "        method   mean     std  n_folds  time_sec\n",
              "0  KFold (k=5)  0.994  0.0074        5    0.9324"
            ],
            "text/html": [
              "\n",
              "  <div id=\"df-6833d86c-4ee6-47c4-85fe-4054891575d3\" class=\"colab-df-container\">\n",
              "    <div>\n",
              "<style scoped>\n",
              "    .dataframe tbody tr th:only-of-type {\n",
              "        vertical-align: middle;\n",
              "    }\n",
              "\n",
              "    .dataframe tbody tr th {\n",
              "        vertical-align: top;\n",
              "    }\n",
              "\n",
              "    .dataframe thead th {\n",
              "        text-align: right;\n",
              "    }\n",
              "</style>\n",
              "<table border=\"1\" class=\"dataframe\">\n",
              "  <thead>\n",
              "    <tr style=\"text-align: right;\">\n",
              "      <th></th>\n",
              "      <th>method</th>\n",
              "      <th>mean</th>\n",
              "      <th>std</th>\n",
              "      <th>n_folds</th>\n",
              "      <th>time_sec</th>\n",
              "    </tr>\n",
              "  </thead>\n",
              "  <tbody>\n",
              "    <tr>\n",
              "      <th>0</th>\n",
              "      <td>KFold (k=5)</td>\n",
              "      <td>0.994</td>\n",
              "      <td>0.0074</td>\n",
              "      <td>5</td>\n",
              "      <td>0.9324</td>\n",
              "    </tr>\n",
              "  </tbody>\n",
              "</table>\n",
              "</div>\n",
              "    <div class=\"colab-df-buttons\">\n",
              "\n",
              "  <div class=\"colab-df-container\">\n",
              "    <button class=\"colab-df-convert\" onclick=\"convertToInteractive('df-6833d86c-4ee6-47c4-85fe-4054891575d3')\"\n",
              "            title=\"Convert this dataframe to an interactive table.\"\n",
              "            style=\"display:none;\">\n",
              "\n",
              "  <svg xmlns=\"http://www.w3.org/2000/svg\" height=\"24px\" viewBox=\"0 -960 960 960\">\n",
              "    <path d=\"M120-120v-720h720v720H120Zm60-500h600v-160H180v160Zm220 220h160v-160H400v160Zm0 220h160v-160H400v160ZM180-400h160v-160H180v160Zm440 0h160v-160H620v160ZM180-180h160v-160H180v160Zm440 0h160v-160H620v160Z\"/>\n",
              "  </svg>\n",
              "    </button>\n",
              "\n",
              "  <style>\n",
              "    .colab-df-container {\n",
              "      display:flex;\n",
              "      gap: 12px;\n",
              "    }\n",
              "\n",
              "    .colab-df-convert {\n",
              "      background-color: #E8F0FE;\n",
              "      border: none;\n",
              "      border-radius: 50%;\n",
              "      cursor: pointer;\n",
              "      display: none;\n",
              "      fill: #1967D2;\n",
              "      height: 32px;\n",
              "      padding: 0 0 0 0;\n",
              "      width: 32px;\n",
              "    }\n",
              "\n",
              "    .colab-df-convert:hover {\n",
              "      background-color: #E2EBFA;\n",
              "      box-shadow: 0px 1px 2px rgba(60, 64, 67, 0.3), 0px 1px 3px 1px rgba(60, 64, 67, 0.15);\n",
              "      fill: #174EA6;\n",
              "    }\n",
              "\n",
              "    .colab-df-buttons div {\n",
              "      margin-bottom: 4px;\n",
              "    }\n",
              "\n",
              "    [theme=dark] .colab-df-convert {\n",
              "      background-color: #3B4455;\n",
              "      fill: #D2E3FC;\n",
              "    }\n",
              "\n",
              "    [theme=dark] .colab-df-convert:hover {\n",
              "      background-color: #434B5C;\n",
              "      box-shadow: 0px 1px 3px 1px rgba(0, 0, 0, 0.15);\n",
              "      filter: drop-shadow(0px 1px 2px rgba(0, 0, 0, 0.3));\n",
              "      fill: #FFFFFF;\n",
              "    }\n",
              "  </style>\n",
              "\n",
              "    <script>\n",
              "      const buttonEl =\n",
              "        document.querySelector('#df-6833d86c-4ee6-47c4-85fe-4054891575d3 button.colab-df-convert');\n",
              "      buttonEl.style.display =\n",
              "        google.colab.kernel.accessAllowed ? 'block' : 'none';\n",
              "\n",
              "      async function convertToInteractive(key) {\n",
              "        const element = document.querySelector('#df-6833d86c-4ee6-47c4-85fe-4054891575d3');\n",
              "        const dataTable =\n",
              "          await google.colab.kernel.invokeFunction('convertToInteractive',\n",
              "                                                    [key], {});\n",
              "        if (!dataTable) return;\n",
              "\n",
              "        const docLinkHtml = 'Like what you see? Visit the ' +\n",
              "          '<a target=\"_blank\" href=https://colab.research.google.com/notebooks/data_table.ipynb>data table notebook</a>'\n",
              "          + ' to learn more about interactive tables.';\n",
              "        element.innerHTML = '';\n",
              "        dataTable['output_type'] = 'display_data';\n",
              "        await google.colab.output.renderOutput(dataTable, element);\n",
              "        const docLink = document.createElement('div');\n",
              "        docLink.innerHTML = docLinkHtml;\n",
              "        element.appendChild(docLink);\n",
              "      }\n",
              "    </script>\n",
              "  </div>\n",
              "\n",
              "\n",
              "    </div>\n",
              "  </div>\n"
            ],
            "application/vnd.google.colaboratory.intrinsic+json": {
              "type": "dataframe",
              "summary": "{\n  \"name\": \"display(pd\",\n  \"rows\": 1,\n  \"fields\": [\n    {\n      \"column\": \"method\",\n      \"properties\": {\n        \"dtype\": \"string\",\n        \"num_unique_values\": 1,\n        \"samples\": [\n          \"KFold (k=5)\"\n        ],\n        \"semantic_type\": \"\",\n        \"description\": \"\"\n      }\n    },\n    {\n      \"column\": \"mean\",\n      \"properties\": {\n        \"dtype\": \"number\",\n        \"std\": null,\n        \"min\": 0.994,\n        \"max\": 0.994,\n        \"num_unique_values\": 1,\n        \"samples\": [\n          0.994\n        ],\n        \"semantic_type\": \"\",\n        \"description\": \"\"\n      }\n    },\n    {\n      \"column\": \"std\",\n      \"properties\": {\n        \"dtype\": \"number\",\n        \"std\": null,\n        \"min\": 0.0074,\n        \"max\": 0.0074,\n        \"num_unique_values\": 1,\n        \"samples\": [\n          0.0074\n        ],\n        \"semantic_type\": \"\",\n        \"description\": \"\"\n      }\n    },\n    {\n      \"column\": \"n_folds\",\n      \"properties\": {\n        \"dtype\": \"number\",\n        \"std\": null,\n        \"min\": 5,\n        \"max\": 5,\n        \"num_unique_values\": 1,\n        \"samples\": [\n          5\n        ],\n        \"semantic_type\": \"\",\n        \"description\": \"\"\n      }\n    },\n    {\n      \"column\": \"time_sec\",\n      \"properties\": {\n        \"dtype\": \"number\",\n        \"std\": null,\n        \"min\": 0.9324,\n        \"max\": 0.9324,\n        \"num_unique_values\": 1,\n        \"samples\": [\n          0.9324\n        ],\n        \"semantic_type\": \"\",\n        \"description\": \"\"\n      }\n    }\n  ]\n}"
            }
          },
          "metadata": {}
        }
      ]
    },
    {
      "cell_type": "markdown",
      "source": [
        "Stratified K-Fold: Like K-Fold but each fold preserves class proportions (for classification/imbalanced classes)."
      ],
      "metadata": {
        "id": "b3Zt3rc1rnvX"
      }
    },
    {
      "cell_type": "code",
      "source": [
        "start = time.time()\n",
        "skf = StratifiedKFold(n_splits=5, shuffle=True, random_state=42)\n",
        "skf_scores = cross_val_score(clf_pipe, X, y, cv=skf, scoring=\"accuracy\")\n",
        "skf_summary = summarize_scores(\"StratifiedKFold (k=5)\", skf_scores, start)\n",
        "summaries.append(skf_summary)\n",
        "\n",
        "print(\"Stratified K-Fold (k=5) results:\")\n",
        "display(pd.DataFrame([skf_summary]).round(4))\n"
      ],
      "metadata": {
        "colab": {
          "base_uri": "https://localhost:8080/",
          "height": 98
        },
        "id": "gMLKm9TZrvAM",
        "outputId": "8ebdcba2-7fdb-4493-c1f9-213429fc0746"
      },
      "execution_count": null,
      "outputs": [
        {
          "output_type": "stream",
          "name": "stdout",
          "text": [
            "Stratified K-Fold (k=5) results:\n"
          ]
        },
        {
          "output_type": "display_data",
          "data": {
            "text/plain": [
              "                  method   mean     std  n_folds  time_sec\n",
              "0  StratifiedKFold (k=5)  0.994  0.0119        5      0.79"
            ],
            "text/html": [
              "\n",
              "  <div id=\"df-7db918f9-51a6-4473-bb91-aae88c5465f8\" class=\"colab-df-container\">\n",
              "    <div>\n",
              "<style scoped>\n",
              "    .dataframe tbody tr th:only-of-type {\n",
              "        vertical-align: middle;\n",
              "    }\n",
              "\n",
              "    .dataframe tbody tr th {\n",
              "        vertical-align: top;\n",
              "    }\n",
              "\n",
              "    .dataframe thead th {\n",
              "        text-align: right;\n",
              "    }\n",
              "</style>\n",
              "<table border=\"1\" class=\"dataframe\">\n",
              "  <thead>\n",
              "    <tr style=\"text-align: right;\">\n",
              "      <th></th>\n",
              "      <th>method</th>\n",
              "      <th>mean</th>\n",
              "      <th>std</th>\n",
              "      <th>n_folds</th>\n",
              "      <th>time_sec</th>\n",
              "    </tr>\n",
              "  </thead>\n",
              "  <tbody>\n",
              "    <tr>\n",
              "      <th>0</th>\n",
              "      <td>StratifiedKFold (k=5)</td>\n",
              "      <td>0.994</td>\n",
              "      <td>0.0119</td>\n",
              "      <td>5</td>\n",
              "      <td>0.79</td>\n",
              "    </tr>\n",
              "  </tbody>\n",
              "</table>\n",
              "</div>\n",
              "    <div class=\"colab-df-buttons\">\n",
              "\n",
              "  <div class=\"colab-df-container\">\n",
              "    <button class=\"colab-df-convert\" onclick=\"convertToInteractive('df-7db918f9-51a6-4473-bb91-aae88c5465f8')\"\n",
              "            title=\"Convert this dataframe to an interactive table.\"\n",
              "            style=\"display:none;\">\n",
              "\n",
              "  <svg xmlns=\"http://www.w3.org/2000/svg\" height=\"24px\" viewBox=\"0 -960 960 960\">\n",
              "    <path d=\"M120-120v-720h720v720H120Zm60-500h600v-160H180v160Zm220 220h160v-160H400v160Zm0 220h160v-160H400v160ZM180-400h160v-160H180v160Zm440 0h160v-160H620v160ZM180-180h160v-160H180v160Zm440 0h160v-160H620v160Z\"/>\n",
              "  </svg>\n",
              "    </button>\n",
              "\n",
              "  <style>\n",
              "    .colab-df-container {\n",
              "      display:flex;\n",
              "      gap: 12px;\n",
              "    }\n",
              "\n",
              "    .colab-df-convert {\n",
              "      background-color: #E8F0FE;\n",
              "      border: none;\n",
              "      border-radius: 50%;\n",
              "      cursor: pointer;\n",
              "      display: none;\n",
              "      fill: #1967D2;\n",
              "      height: 32px;\n",
              "      padding: 0 0 0 0;\n",
              "      width: 32px;\n",
              "    }\n",
              "\n",
              "    .colab-df-convert:hover {\n",
              "      background-color: #E2EBFA;\n",
              "      box-shadow: 0px 1px 2px rgba(60, 64, 67, 0.3), 0px 1px 3px 1px rgba(60, 64, 67, 0.15);\n",
              "      fill: #174EA6;\n",
              "    }\n",
              "\n",
              "    .colab-df-buttons div {\n",
              "      margin-bottom: 4px;\n",
              "    }\n",
              "\n",
              "    [theme=dark] .colab-df-convert {\n",
              "      background-color: #3B4455;\n",
              "      fill: #D2E3FC;\n",
              "    }\n",
              "\n",
              "    [theme=dark] .colab-df-convert:hover {\n",
              "      background-color: #434B5C;\n",
              "      box-shadow: 0px 1px 3px 1px rgba(0, 0, 0, 0.15);\n",
              "      filter: drop-shadow(0px 1px 2px rgba(0, 0, 0, 0.3));\n",
              "      fill: #FFFFFF;\n",
              "    }\n",
              "  </style>\n",
              "\n",
              "    <script>\n",
              "      const buttonEl =\n",
              "        document.querySelector('#df-7db918f9-51a6-4473-bb91-aae88c5465f8 button.colab-df-convert');\n",
              "      buttonEl.style.display =\n",
              "        google.colab.kernel.accessAllowed ? 'block' : 'none';\n",
              "\n",
              "      async function convertToInteractive(key) {\n",
              "        const element = document.querySelector('#df-7db918f9-51a6-4473-bb91-aae88c5465f8');\n",
              "        const dataTable =\n",
              "          await google.colab.kernel.invokeFunction('convertToInteractive',\n",
              "                                                    [key], {});\n",
              "        if (!dataTable) return;\n",
              "\n",
              "        const docLinkHtml = 'Like what you see? Visit the ' +\n",
              "          '<a target=\"_blank\" href=https://colab.research.google.com/notebooks/data_table.ipynb>data table notebook</a>'\n",
              "          + ' to learn more about interactive tables.';\n",
              "        element.innerHTML = '';\n",
              "        dataTable['output_type'] = 'display_data';\n",
              "        await google.colab.output.renderOutput(dataTable, element);\n",
              "        const docLink = document.createElement('div');\n",
              "        docLink.innerHTML = docLinkHtml;\n",
              "        element.appendChild(docLink);\n",
              "      }\n",
              "    </script>\n",
              "  </div>\n",
              "\n",
              "\n",
              "    </div>\n",
              "  </div>\n"
            ],
            "application/vnd.google.colaboratory.intrinsic+json": {
              "type": "dataframe",
              "summary": "{\n  \"name\": \"display(pd\",\n  \"rows\": 1,\n  \"fields\": [\n    {\n      \"column\": \"method\",\n      \"properties\": {\n        \"dtype\": \"string\",\n        \"num_unique_values\": 1,\n        \"samples\": [\n          \"StratifiedKFold (k=5)\"\n        ],\n        \"semantic_type\": \"\",\n        \"description\": \"\"\n      }\n    },\n    {\n      \"column\": \"mean\",\n      \"properties\": {\n        \"dtype\": \"number\",\n        \"std\": null,\n        \"min\": 0.994,\n        \"max\": 0.994,\n        \"num_unique_values\": 1,\n        \"samples\": [\n          0.994\n        ],\n        \"semantic_type\": \"\",\n        \"description\": \"\"\n      }\n    },\n    {\n      \"column\": \"std\",\n      \"properties\": {\n        \"dtype\": \"number\",\n        \"std\": null,\n        \"min\": 0.0119,\n        \"max\": 0.0119,\n        \"num_unique_values\": 1,\n        \"samples\": [\n          0.0119\n        ],\n        \"semantic_type\": \"\",\n        \"description\": \"\"\n      }\n    },\n    {\n      \"column\": \"n_folds\",\n      \"properties\": {\n        \"dtype\": \"number\",\n        \"std\": null,\n        \"min\": 5,\n        \"max\": 5,\n        \"num_unique_values\": 1,\n        \"samples\": [\n          5\n        ],\n        \"semantic_type\": \"\",\n        \"description\": \"\"\n      }\n    },\n    {\n      \"column\": \"time_sec\",\n      \"properties\": {\n        \"dtype\": \"number\",\n        \"std\": null,\n        \"min\": 0.79,\n        \"max\": 0.79,\n        \"num_unique_values\": 1,\n        \"samples\": [\n          0.79\n        ],\n        \"semantic_type\": \"\",\n        \"description\": \"\"\n      }\n    }\n  ]\n}"
            }
          },
          "metadata": {}
        }
      ]
    },
    {
      "cell_type": "markdown",
      "source": [
        "Group K-Fold: Split by group IDs so the same group never appears in both train and validation within a fold."
      ],
      "metadata": {
        "id": "02cVAyfaryJo"
      }
    },
    {
      "cell_type": "code",
      "source": [
        "n_groups = groups.nunique()\n",
        "gk_splits = min(5, n_groups)\n",
        "\n",
        "start = time.time()\n",
        "gkf = GroupKFold(n_splits=gk_splits)\n",
        "gkf_scores = cross_val_score(clf_pipe, X, y, cv=gkf, groups=groups, scoring=\"accuracy\")\n",
        "gkf_summary = summarize_scores(f\"GroupKFold (k={gk_splits}, groups=island)\", gkf_scores, start)\n",
        "summaries.append(gkf_summary)\n",
        "\n",
        "print(f\"Group K-Fold (k={gk_splits}) results:\")\n",
        "display(pd.DataFrame([gkf_summary]).round(4))\n"
      ],
      "metadata": {
        "colab": {
          "base_uri": "https://localhost:8080/",
          "height": 98
        },
        "id": "9eQOKRFLr66H",
        "outputId": "b07d87bf-2dcb-4d91-84a0-968995f50d81"
      },
      "execution_count": null,
      "outputs": [
        {
          "output_type": "stream",
          "name": "stdout",
          "text": [
            "Group K-Fold (k=3) results:\n"
          ]
        },
        {
          "output_type": "display_data",
          "data": {
            "text/plain": [
              "                            method    mean     std  n_folds  time_sec\n",
              "0  GroupKFold (k=3, groups=island)  0.5718  0.3115        3    0.5514"
            ],
            "text/html": [
              "\n",
              "  <div id=\"df-2eb7c211-72cd-4ba3-b754-557f9f3f579b\" class=\"colab-df-container\">\n",
              "    <div>\n",
              "<style scoped>\n",
              "    .dataframe tbody tr th:only-of-type {\n",
              "        vertical-align: middle;\n",
              "    }\n",
              "\n",
              "    .dataframe tbody tr th {\n",
              "        vertical-align: top;\n",
              "    }\n",
              "\n",
              "    .dataframe thead th {\n",
              "        text-align: right;\n",
              "    }\n",
              "</style>\n",
              "<table border=\"1\" class=\"dataframe\">\n",
              "  <thead>\n",
              "    <tr style=\"text-align: right;\">\n",
              "      <th></th>\n",
              "      <th>method</th>\n",
              "      <th>mean</th>\n",
              "      <th>std</th>\n",
              "      <th>n_folds</th>\n",
              "      <th>time_sec</th>\n",
              "    </tr>\n",
              "  </thead>\n",
              "  <tbody>\n",
              "    <tr>\n",
              "      <th>0</th>\n",
              "      <td>GroupKFold (k=3, groups=island)</td>\n",
              "      <td>0.5718</td>\n",
              "      <td>0.3115</td>\n",
              "      <td>3</td>\n",
              "      <td>0.5514</td>\n",
              "    </tr>\n",
              "  </tbody>\n",
              "</table>\n",
              "</div>\n",
              "    <div class=\"colab-df-buttons\">\n",
              "\n",
              "  <div class=\"colab-df-container\">\n",
              "    <button class=\"colab-df-convert\" onclick=\"convertToInteractive('df-2eb7c211-72cd-4ba3-b754-557f9f3f579b')\"\n",
              "            title=\"Convert this dataframe to an interactive table.\"\n",
              "            style=\"display:none;\">\n",
              "\n",
              "  <svg xmlns=\"http://www.w3.org/2000/svg\" height=\"24px\" viewBox=\"0 -960 960 960\">\n",
              "    <path d=\"M120-120v-720h720v720H120Zm60-500h600v-160H180v160Zm220 220h160v-160H400v160Zm0 220h160v-160H400v160ZM180-400h160v-160H180v160Zm440 0h160v-160H620v160ZM180-180h160v-160H180v160Zm440 0h160v-160H620v160Z\"/>\n",
              "  </svg>\n",
              "    </button>\n",
              "\n",
              "  <style>\n",
              "    .colab-df-container {\n",
              "      display:flex;\n",
              "      gap: 12px;\n",
              "    }\n",
              "\n",
              "    .colab-df-convert {\n",
              "      background-color: #E8F0FE;\n",
              "      border: none;\n",
              "      border-radius: 50%;\n",
              "      cursor: pointer;\n",
              "      display: none;\n",
              "      fill: #1967D2;\n",
              "      height: 32px;\n",
              "      padding: 0 0 0 0;\n",
              "      width: 32px;\n",
              "    }\n",
              "\n",
              "    .colab-df-convert:hover {\n",
              "      background-color: #E2EBFA;\n",
              "      box-shadow: 0px 1px 2px rgba(60, 64, 67, 0.3), 0px 1px 3px 1px rgba(60, 64, 67, 0.15);\n",
              "      fill: #174EA6;\n",
              "    }\n",
              "\n",
              "    .colab-df-buttons div {\n",
              "      margin-bottom: 4px;\n",
              "    }\n",
              "\n",
              "    [theme=dark] .colab-df-convert {\n",
              "      background-color: #3B4455;\n",
              "      fill: #D2E3FC;\n",
              "    }\n",
              "\n",
              "    [theme=dark] .colab-df-convert:hover {\n",
              "      background-color: #434B5C;\n",
              "      box-shadow: 0px 1px 3px 1px rgba(0, 0, 0, 0.15);\n",
              "      filter: drop-shadow(0px 1px 2px rgba(0, 0, 0, 0.3));\n",
              "      fill: #FFFFFF;\n",
              "    }\n",
              "  </style>\n",
              "\n",
              "    <script>\n",
              "      const buttonEl =\n",
              "        document.querySelector('#df-2eb7c211-72cd-4ba3-b754-557f9f3f579b button.colab-df-convert');\n",
              "      buttonEl.style.display =\n",
              "        google.colab.kernel.accessAllowed ? 'block' : 'none';\n",
              "\n",
              "      async function convertToInteractive(key) {\n",
              "        const element = document.querySelector('#df-2eb7c211-72cd-4ba3-b754-557f9f3f579b');\n",
              "        const dataTable =\n",
              "          await google.colab.kernel.invokeFunction('convertToInteractive',\n",
              "                                                    [key], {});\n",
              "        if (!dataTable) return;\n",
              "\n",
              "        const docLinkHtml = 'Like what you see? Visit the ' +\n",
              "          '<a target=\"_blank\" href=https://colab.research.google.com/notebooks/data_table.ipynb>data table notebook</a>'\n",
              "          + ' to learn more about interactive tables.';\n",
              "        element.innerHTML = '';\n",
              "        dataTable['output_type'] = 'display_data';\n",
              "        await google.colab.output.renderOutput(dataTable, element);\n",
              "        const docLink = document.createElement('div');\n",
              "        docLink.innerHTML = docLinkHtml;\n",
              "        element.appendChild(docLink);\n",
              "      }\n",
              "    </script>\n",
              "  </div>\n",
              "\n",
              "\n",
              "    </div>\n",
              "  </div>\n"
            ],
            "application/vnd.google.colaboratory.intrinsic+json": {
              "type": "dataframe",
              "summary": "{\n  \"name\": \"display(pd\",\n  \"rows\": 1,\n  \"fields\": [\n    {\n      \"column\": \"method\",\n      \"properties\": {\n        \"dtype\": \"string\",\n        \"num_unique_values\": 1,\n        \"samples\": [\n          \"GroupKFold (k=3, groups=island)\"\n        ],\n        \"semantic_type\": \"\",\n        \"description\": \"\"\n      }\n    },\n    {\n      \"column\": \"mean\",\n      \"properties\": {\n        \"dtype\": \"number\",\n        \"std\": null,\n        \"min\": 0.5718,\n        \"max\": 0.5718,\n        \"num_unique_values\": 1,\n        \"samples\": [\n          0.5718\n        ],\n        \"semantic_type\": \"\",\n        \"description\": \"\"\n      }\n    },\n    {\n      \"column\": \"std\",\n      \"properties\": {\n        \"dtype\": \"number\",\n        \"std\": null,\n        \"min\": 0.3115,\n        \"max\": 0.3115,\n        \"num_unique_values\": 1,\n        \"samples\": [\n          0.3115\n        ],\n        \"semantic_type\": \"\",\n        \"description\": \"\"\n      }\n    },\n    {\n      \"column\": \"n_folds\",\n      \"properties\": {\n        \"dtype\": \"number\",\n        \"std\": null,\n        \"min\": 3,\n        \"max\": 3,\n        \"num_unique_values\": 1,\n        \"samples\": [\n          3\n        ],\n        \"semantic_type\": \"\",\n        \"description\": \"\"\n      }\n    },\n    {\n      \"column\": \"time_sec\",\n      \"properties\": {\n        \"dtype\": \"number\",\n        \"std\": null,\n        \"min\": 0.5514,\n        \"max\": 0.5514,\n        \"num_unique_values\": 1,\n        \"samples\": [\n          0.5514\n        ],\n        \"semantic_type\": \"\",\n        \"description\": \"\"\n      }\n    }\n  ]\n}"
            }
          },
          "metadata": {}
        }
      ]
    },
    {
      "cell_type": "markdown",
      "source": [
        "LOOCV (Leave-One-Out): Make n folds of size 1; train on n−1, test on the 1 left out; average over all n."
      ],
      "metadata": {
        "id": "1b7iqFM0shMQ"
      }
    },
    {
      "cell_type": "code",
      "source": [
        "start = time.time()\n",
        "loo = LeaveOneOut()\n",
        "loo_scores = cross_val_score(clf_pipe, X, y, cv=loo, scoring=\"accuracy\")\n",
        "loo_summary = summarize_scores(\"LOOCV\", loo_scores, start)\n",
        "summaries.append(loo_summary)\n",
        "\n",
        "print(\"LOOCV results:\")\n",
        "display(pd.DataFrame([loo_summary]).round(4))\n"
      ],
      "metadata": {
        "colab": {
          "base_uri": "https://localhost:8080/",
          "height": 98
        },
        "id": "mlclVHvAslGy",
        "outputId": "51ac5e1d-977a-4495-95a8-bf546f9f405e"
      },
      "execution_count": null,
      "outputs": [
        {
          "output_type": "stream",
          "name": "stdout",
          "text": [
            "LOOCV results:\n"
          ]
        },
        {
          "output_type": "display_data",
          "data": {
            "text/plain": [
              "  method   mean     std  n_folds  time_sec\n",
              "0  LOOCV  0.994  0.0772      334   17.8377"
            ],
            "text/html": [
              "\n",
              "  <div id=\"df-f78ea853-aae5-44aa-aa64-274dc5ccfcc9\" class=\"colab-df-container\">\n",
              "    <div>\n",
              "<style scoped>\n",
              "    .dataframe tbody tr th:only-of-type {\n",
              "        vertical-align: middle;\n",
              "    }\n",
              "\n",
              "    .dataframe tbody tr th {\n",
              "        vertical-align: top;\n",
              "    }\n",
              "\n",
              "    .dataframe thead th {\n",
              "        text-align: right;\n",
              "    }\n",
              "</style>\n",
              "<table border=\"1\" class=\"dataframe\">\n",
              "  <thead>\n",
              "    <tr style=\"text-align: right;\">\n",
              "      <th></th>\n",
              "      <th>method</th>\n",
              "      <th>mean</th>\n",
              "      <th>std</th>\n",
              "      <th>n_folds</th>\n",
              "      <th>time_sec</th>\n",
              "    </tr>\n",
              "  </thead>\n",
              "  <tbody>\n",
              "    <tr>\n",
              "      <th>0</th>\n",
              "      <td>LOOCV</td>\n",
              "      <td>0.994</td>\n",
              "      <td>0.0772</td>\n",
              "      <td>334</td>\n",
              "      <td>17.8377</td>\n",
              "    </tr>\n",
              "  </tbody>\n",
              "</table>\n",
              "</div>\n",
              "    <div class=\"colab-df-buttons\">\n",
              "\n",
              "  <div class=\"colab-df-container\">\n",
              "    <button class=\"colab-df-convert\" onclick=\"convertToInteractive('df-f78ea853-aae5-44aa-aa64-274dc5ccfcc9')\"\n",
              "            title=\"Convert this dataframe to an interactive table.\"\n",
              "            style=\"display:none;\">\n",
              "\n",
              "  <svg xmlns=\"http://www.w3.org/2000/svg\" height=\"24px\" viewBox=\"0 -960 960 960\">\n",
              "    <path d=\"M120-120v-720h720v720H120Zm60-500h600v-160H180v160Zm220 220h160v-160H400v160Zm0 220h160v-160H400v160ZM180-400h160v-160H180v160Zm440 0h160v-160H620v160ZM180-180h160v-160H180v160Zm440 0h160v-160H620v160Z\"/>\n",
              "  </svg>\n",
              "    </button>\n",
              "\n",
              "  <style>\n",
              "    .colab-df-container {\n",
              "      display:flex;\n",
              "      gap: 12px;\n",
              "    }\n",
              "\n",
              "    .colab-df-convert {\n",
              "      background-color: #E8F0FE;\n",
              "      border: none;\n",
              "      border-radius: 50%;\n",
              "      cursor: pointer;\n",
              "      display: none;\n",
              "      fill: #1967D2;\n",
              "      height: 32px;\n",
              "      padding: 0 0 0 0;\n",
              "      width: 32px;\n",
              "    }\n",
              "\n",
              "    .colab-df-convert:hover {\n",
              "      background-color: #E2EBFA;\n",
              "      box-shadow: 0px 1px 2px rgba(60, 64, 67, 0.3), 0px 1px 3px 1px rgba(60, 64, 67, 0.15);\n",
              "      fill: #174EA6;\n",
              "    }\n",
              "\n",
              "    .colab-df-buttons div {\n",
              "      margin-bottom: 4px;\n",
              "    }\n",
              "\n",
              "    [theme=dark] .colab-df-convert {\n",
              "      background-color: #3B4455;\n",
              "      fill: #D2E3FC;\n",
              "    }\n",
              "\n",
              "    [theme=dark] .colab-df-convert:hover {\n",
              "      background-color: #434B5C;\n",
              "      box-shadow: 0px 1px 3px 1px rgba(0, 0, 0, 0.15);\n",
              "      filter: drop-shadow(0px 1px 2px rgba(0, 0, 0, 0.3));\n",
              "      fill: #FFFFFF;\n",
              "    }\n",
              "  </style>\n",
              "\n",
              "    <script>\n",
              "      const buttonEl =\n",
              "        document.querySelector('#df-f78ea853-aae5-44aa-aa64-274dc5ccfcc9 button.colab-df-convert');\n",
              "      buttonEl.style.display =\n",
              "        google.colab.kernel.accessAllowed ? 'block' : 'none';\n",
              "\n",
              "      async function convertToInteractive(key) {\n",
              "        const element = document.querySelector('#df-f78ea853-aae5-44aa-aa64-274dc5ccfcc9');\n",
              "        const dataTable =\n",
              "          await google.colab.kernel.invokeFunction('convertToInteractive',\n",
              "                                                    [key], {});\n",
              "        if (!dataTable) return;\n",
              "\n",
              "        const docLinkHtml = 'Like what you see? Visit the ' +\n",
              "          '<a target=\"_blank\" href=https://colab.research.google.com/notebooks/data_table.ipynb>data table notebook</a>'\n",
              "          + ' to learn more about interactive tables.';\n",
              "        element.innerHTML = '';\n",
              "        dataTable['output_type'] = 'display_data';\n",
              "        await google.colab.output.renderOutput(dataTable, element);\n",
              "        const docLink = document.createElement('div');\n",
              "        docLink.innerHTML = docLinkHtml;\n",
              "        element.appendChild(docLink);\n",
              "      }\n",
              "    </script>\n",
              "  </div>\n",
              "\n",
              "\n",
              "    </div>\n",
              "  </div>\n"
            ],
            "application/vnd.google.colaboratory.intrinsic+json": {
              "type": "dataframe",
              "summary": "{\n  \"name\": \"display(pd\",\n  \"rows\": 1,\n  \"fields\": [\n    {\n      \"column\": \"method\",\n      \"properties\": {\n        \"dtype\": \"string\",\n        \"num_unique_values\": 1,\n        \"samples\": [\n          \"LOOCV\"\n        ],\n        \"semantic_type\": \"\",\n        \"description\": \"\"\n      }\n    },\n    {\n      \"column\": \"mean\",\n      \"properties\": {\n        \"dtype\": \"number\",\n        \"std\": null,\n        \"min\": 0.994,\n        \"max\": 0.994,\n        \"num_unique_values\": 1,\n        \"samples\": [\n          0.994\n        ],\n        \"semantic_type\": \"\",\n        \"description\": \"\"\n      }\n    },\n    {\n      \"column\": \"std\",\n      \"properties\": {\n        \"dtype\": \"number\",\n        \"std\": null,\n        \"min\": 0.0772,\n        \"max\": 0.0772,\n        \"num_unique_values\": 1,\n        \"samples\": [\n          0.0772\n        ],\n        \"semantic_type\": \"\",\n        \"description\": \"\"\n      }\n    },\n    {\n      \"column\": \"n_folds\",\n      \"properties\": {\n        \"dtype\": \"number\",\n        \"std\": null,\n        \"min\": 334,\n        \"max\": 334,\n        \"num_unique_values\": 1,\n        \"samples\": [\n          334\n        ],\n        \"semantic_type\": \"\",\n        \"description\": \"\"\n      }\n    },\n    {\n      \"column\": \"time_sec\",\n      \"properties\": {\n        \"dtype\": \"number\",\n        \"std\": null,\n        \"min\": 17.8377,\n        \"max\": 17.8377,\n        \"num_unique_values\": 1,\n        \"samples\": [\n          17.8377\n        ],\n        \"semantic_type\": \"\",\n        \"description\": \"\"\n      }\n    }\n  ]\n}"
            }
          },
          "metadata": {}
        }
      ]
    },
    {
      "cell_type": "markdown",
      "source": [
        "Leave-P-Out: Test on every combination of p samples, train on the rest; average—very thorough but computationally heavy."
      ],
      "metadata": {
        "id": "AejL05fSPh5w"
      }
    },
    {
      "cell_type": "code",
      "source": [
        "start = time.time()\n",
        "lpo = LeavePOut(p=2)\n",
        "scores = []\n",
        "# Cap to keep runtime reasonable; increase if you want\n",
        "for i, (tr_idx, te_idx) in enumerate(lpo.split(X, y)):\n",
        "    if i >= 200:\n",
        "        break\n",
        "    clf_pipe.fit(X.iloc[tr_idx], y.iloc[tr_idx])\n",
        "    scores.append(clf_pipe.score(X.iloc[te_idx], y.iloc[te_idx]))\n",
        "lpo_scores = np.array(scores)\n",
        "lpo_summary = summarize_scores(\"LeavePOut (p=2, 200 subsamples)\", lpo_scores, start)\n",
        "summaries.append(lpo_summary)\n",
        "\n",
        "print(\"Leave-P-Out (p=2) results (first 200 splits):\")\n",
        "display(pd.DataFrame([lpo_summary]).round(4))\n"
      ],
      "metadata": {
        "colab": {
          "base_uri": "https://localhost:8080/",
          "height": 98
        },
        "id": "5e1L9YXbPiaN",
        "outputId": "7e922e44-1fd6-476e-c59f-7201d64dab3d"
      },
      "execution_count": null,
      "outputs": [
        {
          "output_type": "stream",
          "name": "stdout",
          "text": [
            "Leave-P-Out (p=2) results (first 200 splits):\n"
          ]
        },
        {
          "output_type": "display_data",
          "data": {
            "text/plain": [
              "                            method   mean     std  n_folds  time_sec\n",
              "0  LeavePOut (p=2, 200 subsamples)  0.995  0.0497      200    4.4743"
            ],
            "text/html": [
              "\n",
              "  <div id=\"df-760ff5b6-61cd-497d-8277-fbe19f108eb9\" class=\"colab-df-container\">\n",
              "    <div>\n",
              "<style scoped>\n",
              "    .dataframe tbody tr th:only-of-type {\n",
              "        vertical-align: middle;\n",
              "    }\n",
              "\n",
              "    .dataframe tbody tr th {\n",
              "        vertical-align: top;\n",
              "    }\n",
              "\n",
              "    .dataframe thead th {\n",
              "        text-align: right;\n",
              "    }\n",
              "</style>\n",
              "<table border=\"1\" class=\"dataframe\">\n",
              "  <thead>\n",
              "    <tr style=\"text-align: right;\">\n",
              "      <th></th>\n",
              "      <th>method</th>\n",
              "      <th>mean</th>\n",
              "      <th>std</th>\n",
              "      <th>n_folds</th>\n",
              "      <th>time_sec</th>\n",
              "    </tr>\n",
              "  </thead>\n",
              "  <tbody>\n",
              "    <tr>\n",
              "      <th>0</th>\n",
              "      <td>LeavePOut (p=2, 200 subsamples)</td>\n",
              "      <td>0.995</td>\n",
              "      <td>0.0497</td>\n",
              "      <td>200</td>\n",
              "      <td>4.4743</td>\n",
              "    </tr>\n",
              "  </tbody>\n",
              "</table>\n",
              "</div>\n",
              "    <div class=\"colab-df-buttons\">\n",
              "\n",
              "  <div class=\"colab-df-container\">\n",
              "    <button class=\"colab-df-convert\" onclick=\"convertToInteractive('df-760ff5b6-61cd-497d-8277-fbe19f108eb9')\"\n",
              "            title=\"Convert this dataframe to an interactive table.\"\n",
              "            style=\"display:none;\">\n",
              "\n",
              "  <svg xmlns=\"http://www.w3.org/2000/svg\" height=\"24px\" viewBox=\"0 -960 960 960\">\n",
              "    <path d=\"M120-120v-720h720v720H120Zm60-500h600v-160H180v160Zm220 220h160v-160H400v160Zm0 220h160v-160H400v160ZM180-400h160v-160H180v160Zm440 0h160v-160H620v160ZM180-180h160v-160H180v160Zm440 0h160v-160H620v160Z\"/>\n",
              "  </svg>\n",
              "    </button>\n",
              "\n",
              "  <style>\n",
              "    .colab-df-container {\n",
              "      display:flex;\n",
              "      gap: 12px;\n",
              "    }\n",
              "\n",
              "    .colab-df-convert {\n",
              "      background-color: #E8F0FE;\n",
              "      border: none;\n",
              "      border-radius: 50%;\n",
              "      cursor: pointer;\n",
              "      display: none;\n",
              "      fill: #1967D2;\n",
              "      height: 32px;\n",
              "      padding: 0 0 0 0;\n",
              "      width: 32px;\n",
              "    }\n",
              "\n",
              "    .colab-df-convert:hover {\n",
              "      background-color: #E2EBFA;\n",
              "      box-shadow: 0px 1px 2px rgba(60, 64, 67, 0.3), 0px 1px 3px 1px rgba(60, 64, 67, 0.15);\n",
              "      fill: #174EA6;\n",
              "    }\n",
              "\n",
              "    .colab-df-buttons div {\n",
              "      margin-bottom: 4px;\n",
              "    }\n",
              "\n",
              "    [theme=dark] .colab-df-convert {\n",
              "      background-color: #3B4455;\n",
              "      fill: #D2E3FC;\n",
              "    }\n",
              "\n",
              "    [theme=dark] .colab-df-convert:hover {\n",
              "      background-color: #434B5C;\n",
              "      box-shadow: 0px 1px 3px 1px rgba(0, 0, 0, 0.15);\n",
              "      filter: drop-shadow(0px 1px 2px rgba(0, 0, 0, 0.3));\n",
              "      fill: #FFFFFF;\n",
              "    }\n",
              "  </style>\n",
              "\n",
              "    <script>\n",
              "      const buttonEl =\n",
              "        document.querySelector('#df-760ff5b6-61cd-497d-8277-fbe19f108eb9 button.colab-df-convert');\n",
              "      buttonEl.style.display =\n",
              "        google.colab.kernel.accessAllowed ? 'block' : 'none';\n",
              "\n",
              "      async function convertToInteractive(key) {\n",
              "        const element = document.querySelector('#df-760ff5b6-61cd-497d-8277-fbe19f108eb9');\n",
              "        const dataTable =\n",
              "          await google.colab.kernel.invokeFunction('convertToInteractive',\n",
              "                                                    [key], {});\n",
              "        if (!dataTable) return;\n",
              "\n",
              "        const docLinkHtml = 'Like what you see? Visit the ' +\n",
              "          '<a target=\"_blank\" href=https://colab.research.google.com/notebooks/data_table.ipynb>data table notebook</a>'\n",
              "          + ' to learn more about interactive tables.';\n",
              "        element.innerHTML = '';\n",
              "        dataTable['output_type'] = 'display_data';\n",
              "        await google.colab.output.renderOutput(dataTable, element);\n",
              "        const docLink = document.createElement('div');\n",
              "        docLink.innerHTML = docLinkHtml;\n",
              "        element.appendChild(docLink);\n",
              "      }\n",
              "    </script>\n",
              "  </div>\n",
              "\n",
              "\n",
              "    </div>\n",
              "  </div>\n"
            ],
            "application/vnd.google.colaboratory.intrinsic+json": {
              "type": "dataframe",
              "summary": "{\n  \"name\": \"display(pd\",\n  \"rows\": 1,\n  \"fields\": [\n    {\n      \"column\": \"method\",\n      \"properties\": {\n        \"dtype\": \"string\",\n        \"num_unique_values\": 1,\n        \"samples\": [\n          \"LeavePOut (p=2, 200 subsamples)\"\n        ],\n        \"semantic_type\": \"\",\n        \"description\": \"\"\n      }\n    },\n    {\n      \"column\": \"mean\",\n      \"properties\": {\n        \"dtype\": \"number\",\n        \"std\": null,\n        \"min\": 0.995,\n        \"max\": 0.995,\n        \"num_unique_values\": 1,\n        \"samples\": [\n          0.995\n        ],\n        \"semantic_type\": \"\",\n        \"description\": \"\"\n      }\n    },\n    {\n      \"column\": \"std\",\n      \"properties\": {\n        \"dtype\": \"number\",\n        \"std\": null,\n        \"min\": 0.0497,\n        \"max\": 0.0497,\n        \"num_unique_values\": 1,\n        \"samples\": [\n          0.0497\n        ],\n        \"semantic_type\": \"\",\n        \"description\": \"\"\n      }\n    },\n    {\n      \"column\": \"n_folds\",\n      \"properties\": {\n        \"dtype\": \"number\",\n        \"std\": null,\n        \"min\": 200,\n        \"max\": 200,\n        \"num_unique_values\": 1,\n        \"samples\": [\n          200\n        ],\n        \"semantic_type\": \"\",\n        \"description\": \"\"\n      }\n    },\n    {\n      \"column\": \"time_sec\",\n      \"properties\": {\n        \"dtype\": \"number\",\n        \"std\": null,\n        \"min\": 4.4743,\n        \"max\": 4.4743,\n        \"num_unique_values\": 1,\n        \"samples\": [\n          4.4743\n        ],\n        \"semantic_type\": \"\",\n        \"description\": \"\"\n      }\n    }\n  ]\n}"
            }
          },
          "metadata": {}
        }
      ]
    },
    {
      "cell_type": "markdown",
      "source": [
        "Final comparison plot + table"
      ],
      "metadata": {
        "id": "vGJK_awqPzEZ"
      }
    },
    {
      "cell_type": "code",
      "source": [
        "summary_df = pd.DataFrame(summaries)\n",
        "summary_df_round = summary_df.copy()\n",
        "summary_df_round[[\"mean\",\"std\",\"time_sec\"]] = summary_df_round[[\"mean\",\"std\",\"time_sec\"]].round(4)\n",
        "\n",
        "print(\"All methods summary:\")\n",
        "display(summary_df_round)\n",
        "\n",
        "barplot_mean_std(\n",
        "    summary_df_round,\n",
        "    title=\"CV Methods Comparison — Penguins (target=species, groups=island)\"\n",
        ")\n"
      ],
      "metadata": {
        "colab": {
          "base_uri": "https://localhost:8080/",
          "height": 714
        },
        "id": "N4nmibb9P0Av",
        "outputId": "73d62c6f-539f-4dc7-89fd-d4f1499876d4"
      },
      "execution_count": null,
      "outputs": [
        {
          "output_type": "stream",
          "name": "stdout",
          "text": [
            "All methods summary:\n"
          ]
        },
        {
          "output_type": "display_data",
          "data": {
            "text/plain": [
              "                            method    mean     std  n_folds  time_sec\n",
              "0                      KFold (k=5)  0.9940  0.0074        5    0.9324\n",
              "1            StratifiedKFold (k=5)  0.9940  0.0119        5    0.7900\n",
              "2  GroupKFold (k=3, groups=island)  0.5718  0.3115        3    0.5514\n",
              "3                            LOOCV  0.9940  0.0772      334   17.8377\n",
              "4  LeavePOut (p=2, 200 subsamples)  0.9950  0.0497      200    4.4743"
            ],
            "text/html": [
              "\n",
              "  <div id=\"df-97428ab6-322b-4074-be4f-0e67c3da53f0\" class=\"colab-df-container\">\n",
              "    <div>\n",
              "<style scoped>\n",
              "    .dataframe tbody tr th:only-of-type {\n",
              "        vertical-align: middle;\n",
              "    }\n",
              "\n",
              "    .dataframe tbody tr th {\n",
              "        vertical-align: top;\n",
              "    }\n",
              "\n",
              "    .dataframe thead th {\n",
              "        text-align: right;\n",
              "    }\n",
              "</style>\n",
              "<table border=\"1\" class=\"dataframe\">\n",
              "  <thead>\n",
              "    <tr style=\"text-align: right;\">\n",
              "      <th></th>\n",
              "      <th>method</th>\n",
              "      <th>mean</th>\n",
              "      <th>std</th>\n",
              "      <th>n_folds</th>\n",
              "      <th>time_sec</th>\n",
              "    </tr>\n",
              "  </thead>\n",
              "  <tbody>\n",
              "    <tr>\n",
              "      <th>0</th>\n",
              "      <td>KFold (k=5)</td>\n",
              "      <td>0.9940</td>\n",
              "      <td>0.0074</td>\n",
              "      <td>5</td>\n",
              "      <td>0.9324</td>\n",
              "    </tr>\n",
              "    <tr>\n",
              "      <th>1</th>\n",
              "      <td>StratifiedKFold (k=5)</td>\n",
              "      <td>0.9940</td>\n",
              "      <td>0.0119</td>\n",
              "      <td>5</td>\n",
              "      <td>0.7900</td>\n",
              "    </tr>\n",
              "    <tr>\n",
              "      <th>2</th>\n",
              "      <td>GroupKFold (k=3, groups=island)</td>\n",
              "      <td>0.5718</td>\n",
              "      <td>0.3115</td>\n",
              "      <td>3</td>\n",
              "      <td>0.5514</td>\n",
              "    </tr>\n",
              "    <tr>\n",
              "      <th>3</th>\n",
              "      <td>LOOCV</td>\n",
              "      <td>0.9940</td>\n",
              "      <td>0.0772</td>\n",
              "      <td>334</td>\n",
              "      <td>17.8377</td>\n",
              "    </tr>\n",
              "    <tr>\n",
              "      <th>4</th>\n",
              "      <td>LeavePOut (p=2, 200 subsamples)</td>\n",
              "      <td>0.9950</td>\n",
              "      <td>0.0497</td>\n",
              "      <td>200</td>\n",
              "      <td>4.4743</td>\n",
              "    </tr>\n",
              "  </tbody>\n",
              "</table>\n",
              "</div>\n",
              "    <div class=\"colab-df-buttons\">\n",
              "\n",
              "  <div class=\"colab-df-container\">\n",
              "    <button class=\"colab-df-convert\" onclick=\"convertToInteractive('df-97428ab6-322b-4074-be4f-0e67c3da53f0')\"\n",
              "            title=\"Convert this dataframe to an interactive table.\"\n",
              "            style=\"display:none;\">\n",
              "\n",
              "  <svg xmlns=\"http://www.w3.org/2000/svg\" height=\"24px\" viewBox=\"0 -960 960 960\">\n",
              "    <path d=\"M120-120v-720h720v720H120Zm60-500h600v-160H180v160Zm220 220h160v-160H400v160Zm0 220h160v-160H400v160ZM180-400h160v-160H180v160Zm440 0h160v-160H620v160ZM180-180h160v-160H180v160Zm440 0h160v-160H620v160Z\"/>\n",
              "  </svg>\n",
              "    </button>\n",
              "\n",
              "  <style>\n",
              "    .colab-df-container {\n",
              "      display:flex;\n",
              "      gap: 12px;\n",
              "    }\n",
              "\n",
              "    .colab-df-convert {\n",
              "      background-color: #E8F0FE;\n",
              "      border: none;\n",
              "      border-radius: 50%;\n",
              "      cursor: pointer;\n",
              "      display: none;\n",
              "      fill: #1967D2;\n",
              "      height: 32px;\n",
              "      padding: 0 0 0 0;\n",
              "      width: 32px;\n",
              "    }\n",
              "\n",
              "    .colab-df-convert:hover {\n",
              "      background-color: #E2EBFA;\n",
              "      box-shadow: 0px 1px 2px rgba(60, 64, 67, 0.3), 0px 1px 3px 1px rgba(60, 64, 67, 0.15);\n",
              "      fill: #174EA6;\n",
              "    }\n",
              "\n",
              "    .colab-df-buttons div {\n",
              "      margin-bottom: 4px;\n",
              "    }\n",
              "\n",
              "    [theme=dark] .colab-df-convert {\n",
              "      background-color: #3B4455;\n",
              "      fill: #D2E3FC;\n",
              "    }\n",
              "\n",
              "    [theme=dark] .colab-df-convert:hover {\n",
              "      background-color: #434B5C;\n",
              "      box-shadow: 0px 1px 3px 1px rgba(0, 0, 0, 0.15);\n",
              "      filter: drop-shadow(0px 1px 2px rgba(0, 0, 0, 0.3));\n",
              "      fill: #FFFFFF;\n",
              "    }\n",
              "  </style>\n",
              "\n",
              "    <script>\n",
              "      const buttonEl =\n",
              "        document.querySelector('#df-97428ab6-322b-4074-be4f-0e67c3da53f0 button.colab-df-convert');\n",
              "      buttonEl.style.display =\n",
              "        google.colab.kernel.accessAllowed ? 'block' : 'none';\n",
              "\n",
              "      async function convertToInteractive(key) {\n",
              "        const element = document.querySelector('#df-97428ab6-322b-4074-be4f-0e67c3da53f0');\n",
              "        const dataTable =\n",
              "          await google.colab.kernel.invokeFunction('convertToInteractive',\n",
              "                                                    [key], {});\n",
              "        if (!dataTable) return;\n",
              "\n",
              "        const docLinkHtml = 'Like what you see? Visit the ' +\n",
              "          '<a target=\"_blank\" href=https://colab.research.google.com/notebooks/data_table.ipynb>data table notebook</a>'\n",
              "          + ' to learn more about interactive tables.';\n",
              "        element.innerHTML = '';\n",
              "        dataTable['output_type'] = 'display_data';\n",
              "        await google.colab.output.renderOutput(dataTable, element);\n",
              "        const docLink = document.createElement('div');\n",
              "        docLink.innerHTML = docLinkHtml;\n",
              "        element.appendChild(docLink);\n",
              "      }\n",
              "    </script>\n",
              "  </div>\n",
              "\n",
              "\n",
              "    <div id=\"df-d58a64d4-3b71-4a5e-a1da-c07c06e93d5e\">\n",
              "      <button class=\"colab-df-quickchart\" onclick=\"quickchart('df-d58a64d4-3b71-4a5e-a1da-c07c06e93d5e')\"\n",
              "                title=\"Suggest charts\"\n",
              "                style=\"display:none;\">\n",
              "\n",
              "<svg xmlns=\"http://www.w3.org/2000/svg\" height=\"24px\"viewBox=\"0 0 24 24\"\n",
              "     width=\"24px\">\n",
              "    <g>\n",
              "        <path d=\"M19 3H5c-1.1 0-2 .9-2 2v14c0 1.1.9 2 2 2h14c1.1 0 2-.9 2-2V5c0-1.1-.9-2-2-2zM9 17H7v-7h2v7zm4 0h-2V7h2v10zm4 0h-2v-4h2v4z\"/>\n",
              "    </g>\n",
              "</svg>\n",
              "      </button>\n",
              "\n",
              "<style>\n",
              "  .colab-df-quickchart {\n",
              "      --bg-color: #E8F0FE;\n",
              "      --fill-color: #1967D2;\n",
              "      --hover-bg-color: #E2EBFA;\n",
              "      --hover-fill-color: #174EA6;\n",
              "      --disabled-fill-color: #AAA;\n",
              "      --disabled-bg-color: #DDD;\n",
              "  }\n",
              "\n",
              "  [theme=dark] .colab-df-quickchart {\n",
              "      --bg-color: #3B4455;\n",
              "      --fill-color: #D2E3FC;\n",
              "      --hover-bg-color: #434B5C;\n",
              "      --hover-fill-color: #FFFFFF;\n",
              "      --disabled-bg-color: #3B4455;\n",
              "      --disabled-fill-color: #666;\n",
              "  }\n",
              "\n",
              "  .colab-df-quickchart {\n",
              "    background-color: var(--bg-color);\n",
              "    border: none;\n",
              "    border-radius: 50%;\n",
              "    cursor: pointer;\n",
              "    display: none;\n",
              "    fill: var(--fill-color);\n",
              "    height: 32px;\n",
              "    padding: 0;\n",
              "    width: 32px;\n",
              "  }\n",
              "\n",
              "  .colab-df-quickchart:hover {\n",
              "    background-color: var(--hover-bg-color);\n",
              "    box-shadow: 0 1px 2px rgba(60, 64, 67, 0.3), 0 1px 3px 1px rgba(60, 64, 67, 0.15);\n",
              "    fill: var(--button-hover-fill-color);\n",
              "  }\n",
              "\n",
              "  .colab-df-quickchart-complete:disabled,\n",
              "  .colab-df-quickchart-complete:disabled:hover {\n",
              "    background-color: var(--disabled-bg-color);\n",
              "    fill: var(--disabled-fill-color);\n",
              "    box-shadow: none;\n",
              "  }\n",
              "\n",
              "  .colab-df-spinner {\n",
              "    border: 2px solid var(--fill-color);\n",
              "    border-color: transparent;\n",
              "    border-bottom-color: var(--fill-color);\n",
              "    animation:\n",
              "      spin 1s steps(1) infinite;\n",
              "  }\n",
              "\n",
              "  @keyframes spin {\n",
              "    0% {\n",
              "      border-color: transparent;\n",
              "      border-bottom-color: var(--fill-color);\n",
              "      border-left-color: var(--fill-color);\n",
              "    }\n",
              "    20% {\n",
              "      border-color: transparent;\n",
              "      border-left-color: var(--fill-color);\n",
              "      border-top-color: var(--fill-color);\n",
              "    }\n",
              "    30% {\n",
              "      border-color: transparent;\n",
              "      border-left-color: var(--fill-color);\n",
              "      border-top-color: var(--fill-color);\n",
              "      border-right-color: var(--fill-color);\n",
              "    }\n",
              "    40% {\n",
              "      border-color: transparent;\n",
              "      border-right-color: var(--fill-color);\n",
              "      border-top-color: var(--fill-color);\n",
              "    }\n",
              "    60% {\n",
              "      border-color: transparent;\n",
              "      border-right-color: var(--fill-color);\n",
              "    }\n",
              "    80% {\n",
              "      border-color: transparent;\n",
              "      border-right-color: var(--fill-color);\n",
              "      border-bottom-color: var(--fill-color);\n",
              "    }\n",
              "    90% {\n",
              "      border-color: transparent;\n",
              "      border-bottom-color: var(--fill-color);\n",
              "    }\n",
              "  }\n",
              "</style>\n",
              "\n",
              "      <script>\n",
              "        async function quickchart(key) {\n",
              "          const quickchartButtonEl =\n",
              "            document.querySelector('#' + key + ' button');\n",
              "          quickchartButtonEl.disabled = true;  // To prevent multiple clicks.\n",
              "          quickchartButtonEl.classList.add('colab-df-spinner');\n",
              "          try {\n",
              "            const charts = await google.colab.kernel.invokeFunction(\n",
              "                'suggestCharts', [key], {});\n",
              "          } catch (error) {\n",
              "            console.error('Error during call to suggestCharts:', error);\n",
              "          }\n",
              "          quickchartButtonEl.classList.remove('colab-df-spinner');\n",
              "          quickchartButtonEl.classList.add('colab-df-quickchart-complete');\n",
              "        }\n",
              "        (() => {\n",
              "          let quickchartButtonEl =\n",
              "            document.querySelector('#df-d58a64d4-3b71-4a5e-a1da-c07c06e93d5e button');\n",
              "          quickchartButtonEl.style.display =\n",
              "            google.colab.kernel.accessAllowed ? 'block' : 'none';\n",
              "        })();\n",
              "      </script>\n",
              "    </div>\n",
              "\n",
              "  <div id=\"id_0dc112df-5e04-403b-9f9f-a5ef161bfb50\">\n",
              "    <style>\n",
              "      .colab-df-generate {\n",
              "        background-color: #E8F0FE;\n",
              "        border: none;\n",
              "        border-radius: 50%;\n",
              "        cursor: pointer;\n",
              "        display: none;\n",
              "        fill: #1967D2;\n",
              "        height: 32px;\n",
              "        padding: 0 0 0 0;\n",
              "        width: 32px;\n",
              "      }\n",
              "\n",
              "      .colab-df-generate:hover {\n",
              "        background-color: #E2EBFA;\n",
              "        box-shadow: 0px 1px 2px rgba(60, 64, 67, 0.3), 0px 1px 3px 1px rgba(60, 64, 67, 0.15);\n",
              "        fill: #174EA6;\n",
              "      }\n",
              "\n",
              "      [theme=dark] .colab-df-generate {\n",
              "        background-color: #3B4455;\n",
              "        fill: #D2E3FC;\n",
              "      }\n",
              "\n",
              "      [theme=dark] .colab-df-generate:hover {\n",
              "        background-color: #434B5C;\n",
              "        box-shadow: 0px 1px 3px 1px rgba(0, 0, 0, 0.15);\n",
              "        filter: drop-shadow(0px 1px 2px rgba(0, 0, 0, 0.3));\n",
              "        fill: #FFFFFF;\n",
              "      }\n",
              "    </style>\n",
              "    <button class=\"colab-df-generate\" onclick=\"generateWithVariable('summary_df_round')\"\n",
              "            title=\"Generate code using this dataframe.\"\n",
              "            style=\"display:none;\">\n",
              "\n",
              "  <svg xmlns=\"http://www.w3.org/2000/svg\" height=\"24px\"viewBox=\"0 0 24 24\"\n",
              "       width=\"24px\">\n",
              "    <path d=\"M7,19H8.4L18.45,9,17,7.55,7,17.6ZM5,21V16.75L18.45,3.32a2,2,0,0,1,2.83,0l1.4,1.43a1.91,1.91,0,0,1,.58,1.4,1.91,1.91,0,0,1-.58,1.4L9.25,21ZM18.45,9,17,7.55Zm-12,3A5.31,5.31,0,0,0,4.9,8.1,5.31,5.31,0,0,0,1,6.5,5.31,5.31,0,0,0,4.9,4.9,5.31,5.31,0,0,0,6.5,1,5.31,5.31,0,0,0,8.1,4.9,5.31,5.31,0,0,0,12,6.5,5.46,5.46,0,0,0,6.5,12Z\"/>\n",
              "  </svg>\n",
              "    </button>\n",
              "    <script>\n",
              "      (() => {\n",
              "      const buttonEl =\n",
              "        document.querySelector('#id_0dc112df-5e04-403b-9f9f-a5ef161bfb50 button.colab-df-generate');\n",
              "      buttonEl.style.display =\n",
              "        google.colab.kernel.accessAllowed ? 'block' : 'none';\n",
              "\n",
              "      buttonEl.onclick = () => {\n",
              "        google.colab.notebook.generateWithVariable('summary_df_round');\n",
              "      }\n",
              "      })();\n",
              "    </script>\n",
              "  </div>\n",
              "\n",
              "    </div>\n",
              "  </div>\n"
            ],
            "application/vnd.google.colaboratory.intrinsic+json": {
              "type": "dataframe",
              "variable_name": "summary_df_round",
              "summary": "{\n  \"name\": \"summary_df_round\",\n  \"rows\": 5,\n  \"fields\": [\n    {\n      \"column\": \"method\",\n      \"properties\": {\n        \"dtype\": \"string\",\n        \"num_unique_values\": 5,\n        \"samples\": [\n          \"StratifiedKFold (k=5)\",\n          \"LeavePOut (p=2, 200 subsamples)\",\n          \"GroupKFold (k=3, groups=island)\"\n        ],\n        \"semantic_type\": \"\",\n        \"description\": \"\"\n      }\n    },\n    {\n      \"column\": \"mean\",\n      \"properties\": {\n        \"dtype\": \"number\",\n        \"std\": 0.18892587964596064,\n        \"min\": 0.5718,\n        \"max\": 0.995,\n        \"num_unique_values\": 3,\n        \"samples\": [\n          0.994,\n          0.5718,\n          0.995\n        ],\n        \"semantic_type\": \"\",\n        \"description\": \"\"\n      }\n    },\n    {\n      \"column\": \"std\",\n      \"properties\": {\n        \"dtype\": \"number\",\n        \"std\": 0.12625439794320037,\n        \"min\": 0.0074,\n        \"max\": 0.3115,\n        \"num_unique_values\": 5,\n        \"samples\": [\n          0.0119,\n          0.0497,\n          0.3115\n        ],\n        \"semantic_type\": \"\",\n        \"description\": \"\"\n      }\n    },\n    {\n      \"column\": \"n_folds\",\n      \"properties\": {\n        \"dtype\": \"number\",\n        \"std\": 151,\n        \"min\": 3,\n        \"max\": 334,\n        \"num_unique_values\": 4,\n        \"samples\": [\n          3,\n          200,\n          5\n        ],\n        \"semantic_type\": \"\",\n        \"description\": \"\"\n      }\n    },\n    {\n      \"column\": \"time_sec\",\n      \"properties\": {\n        \"dtype\": \"number\",\n        \"std\": 7.401150268235337,\n        \"min\": 0.5514,\n        \"max\": 17.8377,\n        \"num_unique_values\": 5,\n        \"samples\": [\n          0.79,\n          4.4743,\n          0.5514\n        ],\n        \"semantic_type\": \"\",\n        \"description\": \"\"\n      }\n    }\n  ]\n}"
            }
          },
          "metadata": {}
        },
        {
          "output_type": "display_data",
          "data": {
            "text/plain": [
              "<Figure size 1050x500 with 1 Axes>"
            ],
            "image/png": "[encoded data removed]"
          },
          "metadata": {}
        }
      ]
    },
    {
      "cell_type": "markdown",
      "source": [
        "# Cross-validation methods (i.i.d. data): quick guide\n",
        "\n",
        "| Method              | What it does | Use when… | Strengths | Weaknesses |\n",
        "|---------------------|--------------|-----------|-----------|------------|\n",
        "| **K-Fold (k=5/10)** | Split data into k equal folds; train on k−1, validate on 1; average scores. | General i.i.d. datasets with balanced classes. | Stable estimate, good data usage. | Can get imbalanced folds by chance. |\n",
        "| **Stratified K-Fold** | Like K-Fold but preserves **class ratios** in each fold. | **Classification**, especially with class imbalance or rare classes. | More reliable/low variance than plain K-Fold on imbalanced data. | Not native for regression (need binning). |\n",
        "| **Group K-Fold**    | Splits by **group**: the same group never appears in both train & val. | When samples are clustered (patient IDs, devices, buildings, islands, etc.). | Prevents leakage across correlated samples. | Requires group labels; `n_splits ≤ #groups`. |\n",
        "| **LOOCV**           | n folds of size 1; train on n−1, test on 1; average. | Very **small datasets** where every sample counts. | Low bias (almost all data used for training). | High variance per fold; computationally heavy. |\n",
        "| **Leave-P-Out (LPO)** | All combinations leaving out **p** points as validation. | Tiny datasets; stress-test sensitivity. | Thorough, flexible. | Combinatorial explosion as p↑; slow. |\n"
      ],
      "metadata": {
        "id": "Qql1VXnmRlfo"
      }
    },
    {
      "cell_type": "markdown",
      "source": [
        "## Timeseries data\n",
        "\n",
        "* Don't randomize, keep data in temporal order\n",
        "* Align folds with temporal cycles\n",
        "\n",
        "\n",
        "\n",
        "\n",
        "\n"
      ],
      "metadata": {
        "id": "0QttAVTyCKiK"
      }
    },
    {
      "cell_type": "code",
      "source": [
        "class LagFeaturizer(BaseEstimator, TransformerMixin):\n",
        "    def __init__(self, target_col='y', exog_cols=['u'], y_lags=2, u_lags=1, dropna=True):\n",
        "        self.target_col = target_col\n",
        "        self.exog_cols = exog_cols\n",
        "        self.y_lags = y_lags\n",
        "        self.u_lags = u_lags\n",
        "        self.dropna = dropna\n",
        "    def fit(self, X, y=None):\n",
        "        return self\n",
        "    def transform(self, X):\n",
        "        X = X.copy()\n",
        "        for L in range(1, self.y_lags+1):\n",
        "            X[f'y_lag{L}'] = X[self.target_col].shift(L)\n",
        "        for col in self.exog_cols:\n",
        "            for L in range(1, self.u_lags+1):\n",
        "                X[f'{col}_lag{L}'] = X[col].shift(L)\n",
        "        if self.dropna:\n",
        "            X = X.dropna()\n",
        "        return X\n",
        "\n",
        "def create_ts_data(T=1500, change_u=0, seed=42, plot=False):\n",
        "  # prepare data\n",
        "  # Generate an ARX(2,1) process with exogenous input u_t\n",
        "  np.random.seed(seed)\n",
        "  u = np.random.randn(T)\n",
        "  epsilon = 0.2*np.random.randn(T)\n",
        "  y = np.zeros(T)\n",
        "  for t in range(2, T):\n",
        "      y[t] = 0.6*y[t-1] - 0.2*y[t-2] + (0.3 + change_u*t)*u[t-1] + epsilon[t]\n",
        "\n",
        "  ts = pd.DataFrame({'y': y, 'u': u})\n",
        "  # print(ts.head())\n",
        "\n",
        "  # Create supervised matrix with lags (drop current y)\n",
        "  feat = LagFeaturizer(y_lags=2, u_lags=1)\n",
        "  Z = feat.fit_transform(ts)\n",
        "  X = Z.drop(columns=['y']).values\n",
        "  Y = Z['y'].values\n",
        "  # len(X), len(Y)\n",
        "  # print(Z.head())\n",
        "  if plot:\n",
        "    ts.plot(subplots=True)\n",
        "  return ts, X, Y\n",
        "\n",
        "def do_cv(cv, X, Y):\n",
        "  rmse = []\n",
        "  for tr, te in cv.split(X):\n",
        "      model = Ridge(alpha=1.0)\n",
        "      model.fit(X[tr], Y[tr])\n",
        "      pred = model.predict(X[te])\n",
        "      rmse.append(np.sqrt(mean_squared_error(Y[te], pred)))\n",
        "  return rmse\n",
        "\n",
        "ts, X, Y = create_ts_data()"
      ],
      "metadata": {
        "id": "iEnZi7NAQSqN"
      },
      "execution_count": null,
      "outputs": []
    },
    {
      "cell_type": "markdown",
      "source": [
        "Random K-fold vs Blocked K-fold"
      ],
      "metadata": {
        "id": "fhVyTi3zCOJ8"
      }
    },
    {
      "cell_type": "code",
      "source": [
        "n_splits = 5\n",
        "cv_kf = KFold(n_splits=n_splits, shuffle=True, random_state=42)\n",
        "fig, ax = plt.subplots()\n",
        "plot_cv_indices(cv_kf, X, Y, None, ax, n_splits, classes=False, title=\"Random k-fold\")"
      ],
      "metadata": {
        "colab": {
          "base_uri": "https://localhost:8080/",
          "height": 491
        },
        "id": "dwYpvw03IC4v",
        "outputId": "16e2b5ad-0c40-4bb9-82b9-cd3872d1d189"
      },
      "execution_count": null,
      "outputs": [
        {
          "output_type": "execute_result",
          "data": {
            "text/plain": [
              "<Axes: title={'center': 'Random k-fold'}, xlabel='Sample index', ylabel='CV iteration'>"
            ]
          },
          "metadata": {},
          "execution_count": 11
        },
        {
          "output_type": "display_data",
          "data": {
            "text/plain": [
              "<Figure size 640x480 with 1 Axes>"
            ],
            "image/png": "[encoded data removed]"
          },
          "metadata": {}
        }
      ]
    },
    {
      "cell_type": "code",
      "source": [
        "n_splits=5\n",
        "fig, ax = plt.subplots()\n",
        "cv_bkf = KFold(n_splits)\n",
        "# cv.split(X, Y)\n",
        "plot_cv_indices(cv_bkf, X, Y, None, ax, n_splits, classes=False, title=\"Blocked k-fold\")"
      ],
      "metadata": {
        "colab": {
          "base_uri": "https://localhost:8080/",
          "height": 491
        },
        "id": "FHLP01aSQ7YA",
        "outputId": "30e6b39d-e7ff-46e5-efa3-c96054e606c4"
      },
      "execution_count": null,
      "outputs": [
        {
          "output_type": "execute_result",
          "data": {
            "text/plain": [
              "<Axes: title={'center': 'Blocked k-fold'}, xlabel='Sample index', ylabel='CV iteration'>"
            ]
          },
          "metadata": {},
          "execution_count": 12
        },
        {
          "output_type": "display_data",
          "data": {
            "text/plain": [
              "<Figure size 640x480 with 1 Axes>"
            ],
            "image/png": "[encoded data removed]"
          },
          "metadata": {}
        }
      ]
    },
    {
      "cell_type": "code",
      "source": [
        "# WARNING: Demonstration only — do not use KFold on time series if you are creating forecast models\n",
        "rmse_kf = do_cv(cv_kf, X, Y)\n",
        "print(\"Random KFold RMSE: mean:\", np.mean(rmse_kf).round(4), \" |  std:\", np.std(rmse_kf).round(4))\n",
        "\n",
        "# blocked K-fold\n",
        "rmse_bkf = do_cv(cv_bkf, X, Y)\n",
        "print(\"Blocked KFold RMSE: mean:\", np.mean(rmse_bkf).round(4), \" |  std:\", np.std(rmse_bkf).round(4))\n",
        "\n",
        "\n"
      ],
      "metadata": {
        "colab": {
          "base_uri": "https://localhost:8080/"
        },
        "id": "hCNttZTpQo-i",
        "outputId": "66e08cd9-951d-4b81-c40a-abb17dd14f13"
      },
      "execution_count": null,
      "outputs": [
        {
          "output_type": "stream",
          "name": "stdout",
          "text": [
            "Random KFold RMSE: mean: 0.1968  |  std: 0.0084\n",
            "Blocked KFold RMSE: mean: 0.1972  |  std: 0.0045\n"
          ]
        }
      ]
    },
    {
      "cell_type": "markdown",
      "source": [
        "\n",
        "## Forecasting\n",
        "Learning from the past to predict the future\n",
        "- **Expanding window**: training grows, test moves forward\n",
        "- **Rolling/sliding window**: fixed size training sets that roll forward\n",
        "- **Gap**: skip a buffer between train end and test start to prevent lag/leakage?\n",
        "  - Not a problem if lags are created after splitting\n",
        "  - Lags contain information about the past, not the future\n",
        "  "
      ],
      "metadata": {
        "id": "KYZSDOjUUkHt"
      }
    },
    {
      "cell_type": "code",
      "source": [
        "n_splits=5\n",
        "gap = 10\n",
        "fig, ax = plt.subplots()\n",
        "cv_ew = TimeSeriesSplit(n_splits, gap=gap)\n",
        "# cv.split(X, Y)\n",
        "plot_cv_indices(cv_ew, X, Y, None, ax, n_splits, classes=False, title=\"Expanding window\")"
      ],
      "metadata": {
        "colab": {
          "base_uri": "https://localhost:8080/",
          "height": 491
        },
        "id": "GZ76y5u9UtQv",
        "outputId": "dd8668aa-f51b-4fa1-f488-172ce3647372"
      },
      "execution_count": null,
      "outputs": [
        {
          "output_type": "execute_result",
          "data": {
            "text/plain": [
              "<Axes: title={'center': 'Expanding window'}, xlabel='Sample index', ylabel='CV iteration'>"
            ]
          },
          "metadata": {},
          "execution_count": 14
        },
        {
          "output_type": "display_data",
          "data": {
            "text/plain": [
              "<Figure size 640x480 with 1 Axes>"
            ],
            "image/png": "[encoded data removed]"
          },
          "metadata": {}
        }
      ]
    },
    {
      "cell_type": "code",
      "source": [
        "# Time-aware CV\n",
        "# splitter = TimeSeriesSplit(n_splits=5, test_size=150, gap=5)\n",
        "rmse_ew = do_cv(cv_ew, X, Y)\n",
        "print(\"Expanding window RMSE: mean:\", np.mean(rmse_ew).round(4), \" |  std:\", np.std(rmse_ew).round(4))"
      ],
      "metadata": {
        "colab": {
          "base_uri": "https://localhost:8080/"
        },
        "id": "tKWZmVTGgRrP",
        "outputId": "9bc007d5-ba14-4dde-bc38-8ed83ddcd987"
      },
      "execution_count": null,
      "outputs": [
        {
          "output_type": "stream",
          "name": "stdout",
          "text": [
            "Expanding window RMSE: mean: 0.1975  |  std: 0.0062\n"
          ]
        }
      ]
    },
    {
      "cell_type": "markdown",
      "source": [
        "### Sliding-window CV (fixed training length)\n",
        "Use when concept drift is likely; only the **most recent** history matters.\n",
        "\n",
        "- Need to choose size of training/test sets and step lenght\n",
        "- Real world application and domain knowledge is key\n",
        "- Evaluate on the your forecast horizon"
      ],
      "metadata": {
        "id": "_-43BY_Ff8bd"
      }
    },
    {
      "cell_type": "code",
      "source": [
        "\n",
        "n_splits=5\n",
        "gap = 0\n",
        "fig, ax = plt.subplots()\n",
        "cv_sw = SlidingWindowSplit(n_splits=n_splits, train_size=490, test_size=200, gap=gap)\n",
        "# cv.split(X, Y)\n",
        "plot_cv_indices(cv_sw, X, Y, None, ax, n_splits, classes=False, title=\"Sliding window\")"
      ],
      "metadata": {
        "colab": {
          "base_uri": "https://localhost:8080/",
          "height": 491
        },
        "id": "SfPJFtD_gXov",
        "outputId": "169fc739-f9f9-4908-91e9-72ac29a3464c"
      },
      "execution_count": null,
      "outputs": [
        {
          "output_type": "execute_result",
          "data": {
            "text/plain": [
              "<Axes: title={'center': 'Sliding window'}, xlabel='Sample index', ylabel='CV iteration'>"
            ]
          },
          "metadata": {},
          "execution_count": 16
        },
        {
          "output_type": "display_data",
          "data": {
            "text/plain": [
              "<Figure size 640x480 with 1 Axes>"
            ],
            "image/png": "[encoded data removed]"
          },
          "metadata": {}
        }
      ]
    },
    {
      "cell_type": "code",
      "source": [
        "# n = len(Y)\n",
        "# splitter = SlidingWindowSplit(n_splits=n_splits, train_size=490, test_size=200, step=10, gap=gap)\n",
        "rmse_sw = do_cv(cv_sw, X, Y)\n",
        "print(\"Sliding-window RMSE: mean:\", np.mean(rmse_sw).round(4), \" |  std:\", np.std(rmse_sw).round(4))"
      ],
      "metadata": {
        "colab": {
          "base_uri": "https://localhost:8080/"
        },
        "id": "oveVAkb_83R5",
        "outputId": "1a1b344c-c1c9-4bf5-e072-2729e1f3c442"
      },
      "execution_count": null,
      "outputs": [
        {
          "output_type": "stream",
          "name": "stdout",
          "text": [
            "Sliding-window RMSE: mean: 0.1974  |  std: 0.0088\n"
          ]
        }
      ]
    },
    {
      "cell_type": "code",
      "source": [
        "\n",
        "n_splits=45\n",
        "gap = 0\n",
        "fig, ax = plt.subplots()\n",
        "cv_sw2 = SlidingWindowSplit(n_splits=n_splits, train_size=400, test_size=24, gap=gap, step=24,)\n",
        "# cv.split(X, Y)\n",
        "plot_cv_indices(cv_sw2, X, Y, None, ax, n_splits, classes=False, title=\"Sliding window\")"
      ],
      "metadata": {
        "colab": {
          "base_uri": "https://localhost:8080/",
          "height": 491
        },
        "outputId": "4222dc6c-7098-43cf-da75-65315397e4fe",
        "id": "RTfPgVMdEkMf"
      },
      "execution_count": null,
      "outputs": [
        {
          "output_type": "execute_result",
          "data": {
            "text/plain": [
              "<Axes: title={'center': 'Sliding window'}, xlabel='Sample index', ylabel='CV iteration'>"
            ]
          },
          "metadata": {},
          "execution_count": 18
        },
        {
          "output_type": "display_data",
          "data": {
            "text/plain": [
              "<Figure size 640x480 with 1 Axes>"
            ],
            "image/png": "[encoded data removed]"
          },
          "metadata": {}
        }
      ]
    },
    {
      "cell_type": "code",
      "source": [
        "n = len(Y)\n",
        "# splitter = SlidingWindowSplit(n_splits=n_splits, train_size=400, test_size=20, step=10, gap=gap)\n",
        "rmse_sw2 = do_cv(cv_sw2, X, Y)\n",
        "print(\"Sliding-window RMSE: mean:\", np.mean(rmse_sw2).round(4), \" |  std:\", np.std(rmse_sw2).round(4))"
      ],
      "metadata": {
        "colab": {
          "base_uri": "https://localhost:8080/"
        },
        "id": "PpcaazAHgFYE",
        "outputId": "36f6b993-6e35-4fee-9609-626e2bc559aa"
      },
      "execution_count": null,
      "outputs": [
        {
          "output_type": "stream",
          "name": "stdout",
          "text": [
            "Sliding-window RMSE: mean: 0.1972  |  std: 0.0258\n"
          ]
        }
      ]
    },
    {
      "cell_type": "code",
      "source": [
        "print(\"Random KFold RMSE: mean:\", np.mean(rmse_kf).round(4), \" |  std:\", np.std(rmse_kf).round(4))\n",
        "print(\"Blocked KFold RMSE: mean:\", np.mean(rmse_bkf).round(4), \" |  std:\", np.std(rmse_bkf).round(4))\n",
        "print(\"Expanding window RMSE: mean:\", np.mean(rmse_ew).round(4), \" |  std:\", np.std(rmse_ew).round(4))\n",
        "print(\"Sliding-window RMSE: mean:\", np.mean(rmse_sw).round(4), \" |  std:\", np.std(rmse_sw).round(4))\n",
        "print(\"Sliding-window RMSE: mean:\", np.mean(rmse_sw2).round(4), \" |  std:\", np.std(rmse_sw2).round(4))"
      ],
      "metadata": {
        "colab": {
          "base_uri": "https://localhost:8080/"
        },
        "id": "IC2oOEKZCbwa",
        "outputId": "35f66917-85b2-4a11-ed08-2c2f6ae61bf1"
      },
      "execution_count": null,
      "outputs": [
        {
          "output_type": "stream",
          "name": "stdout",
          "text": [
            "Random KFold RMSE: mean: 0.1968  |  std: 0.0084\n",
            "Blocked KFold RMSE: mean: 0.1972  |  std: 0.0045\n",
            "Expanding window RMSE: mean: 0.1975  |  std: 0.0062\n",
            "Sliding-window RMSE: mean: 0.1974  |  std: 0.0088\n",
            "Sliding-window RMSE: mean: 0.1972  |  std: 0.0258\n"
          ]
        }
      ]
    },
    {
      "cell_type": "markdown",
      "source": [
        "## Example\n",
        "\n",
        "We generate synthetic time series data using an autoregressive model with exogenous input (ARX). The model includes:\n",
        "\n",
        "$$\n",
        "y_k = 0.6 y_{k-1} - 0.2 y_{k-2} + 0.3 u_{k-1} + \\varepsilon_t\n",
        "$$\n",
        "\n",
        "Then we fit the same linear model on the data:\n",
        "\n",
        "$$\n",
        "y_k = θ_1 y_{k-1} - \\theta_2 y_{k-2} + \\theta_3 u_{k-1} + \\varepsilon_t\n",
        "$$"
      ],
      "metadata": {
        "id": "aKKiIYraJtaI"
      }
    },
    {
      "cell_type": "code",
      "source": [
        "# Create data\n",
        "ts, X, Y = create_ts_data(plot=True)"
      ],
      "metadata": {
        "colab": {
          "base_uri": "https://localhost:8080/",
          "height": 430
        },
        "id": "K2icwVKvMqFg",
        "outputId": "df88d9a1-e4c1-452c-b6ba-8f9905f74913"
      },
      "execution_count": null,
      "outputs": [
        {
          "output_type": "display_data",
          "data": {
            "text/plain": [
              "<Figure size 640x480 with 2 Axes>"
            ],
            "image/png": "[encoded data removed]"
          },
          "metadata": {}
        }
      ]
    },
    {
      "cell_type": "markdown",
      "source": [
        "Then we do cross validation with the same linear model on the data:\n",
        "\n",
        "$$\n",
        "y_k = θ_1 y_{k-1} - \\theta_2 y_{k-2} + \\theta_3 u_{k-1} + \\varepsilon_t\n",
        "$$"
      ],
      "metadata": {
        "id": "bxsqivT4MsDb"
      }
    },
    {
      "cell_type": "code",
      "source": [
        "# do CV\n",
        "rmse_kf = do_cv(cv_kf, X, Y)\n",
        "rmse_bkf = do_cv(cv_bkf, X, Y)\n",
        "rmse_ew = do_cv(cv_ew, X, Y)\n",
        "rmse_sw = do_cv(cv_sw, X, Y)\n",
        "rmse_sw2 = do_cv(cv_sw2, X, Y)\n",
        "\n",
        "print(\"Random KFold RMSE:     mean:\", np.mean(rmse_kf).round(4), \" |  std:\", np.std(rmse_kf).round(4))\n",
        "print(\"Blocked KFold RMSE:    mean:\", np.mean(rmse_bkf).round(4), \" |  std:\", np.std(rmse_bkf).round(4))\n",
        "print(\"Expanding window RMSE: mean:\", np.mean(rmse_ew).round(4), \" |  std:\", np.std(rmse_ew).round(4))\n",
        "print(\"Sliding-window RMSE:   mean:\", np.mean(rmse_sw).round(4), \" |  std:\", np.std(rmse_sw).round(4))\n",
        "print(\"Sliding-window RMSE:   mean:\", np.mean(rmse_sw2).round(4), \" |  std:\", np.std(rmse_sw2).round(4))"
      ],
      "metadata": {
        "colab": {
          "base_uri": "https://localhost:8080/"
        },
        "id": "INR9gSWhNnHB",
        "outputId": "b85ac314-58de-4fda-ec2f-a76c4491927c"
      },
      "execution_count": null,
      "outputs": [
        {
          "output_type": "stream",
          "name": "stdout",
          "text": [
            "Random KFold RMSE:     mean: 0.1968  |  std: 0.0084\n",
            "Blocked KFold RMSE:    mean: 0.1972  |  std: 0.0045\n",
            "Expanding window RMSE: mean: 0.1975  |  std: 0.0062\n",
            "Sliding-window RMSE:   mean: 0.1974  |  std: 0.0088\n",
            "Sliding-window RMSE:   mean: 0.1972  |  std: 0.0258\n"
          ]
        }
      ]
    },
    {
      "cell_type": "markdown",
      "source": [
        "## Example 2\n",
        "\n",
        "We make the influence of the input time variying\n",
        "$$\n",
        "y_k = 0.6 y_{k-1} - 0.2 y_{k-2} + \\left(0.3 + 0.01 \\cdot k \\right) u_{k-1} + \\varepsilon_k\n",
        "$$"
      ],
      "metadata": {
        "id": "qrqCXc-iJ9eW"
      }
    },
    {
      "cell_type": "code",
      "source": [
        "# create data\n",
        "ts, X, Y = create_ts_data(change_u=1e-2, plot=True)"
      ],
      "metadata": {
        "colab": {
          "base_uri": "https://localhost:8080/",
          "height": 430
        },
        "id": "vDRoqr0yM7NP",
        "outputId": "af141bdf-9626-4812-e1e5-390d9b87960a"
      },
      "execution_count": null,
      "outputs": [
        {
          "output_type": "display_data",
          "data": {
            "text/plain": [
              "<Figure size 640x480 with 2 Axes>"
            ],
            "image/png": "[encoded data removed]"
          },
          "metadata": {}
        }
      ]
    },
    {
      "cell_type": "markdown",
      "source": [
        "We do Cross validation again (with the same linear model)"
      ],
      "metadata": {
        "id": "QNttEhFRS-un"
      }
    },
    {
      "cell_type": "code",
      "source": [
        "#do CV\n",
        "rmse_kf = do_cv(cv_kf, X, Y)\n",
        "rmse_bkf = do_cv(cv_bkf, X, Y)\n",
        "rmse_ew = do_cv(cv_ew, X, Y)\n",
        "rmse_sw = do_cv(cv_sw, X, Y)\n",
        "rmse_sw2 = do_cv(cv_sw2, X, Y)\n",
        "\n",
        "print(\"Random KFold RMSE:     mean:\", np.mean(rmse_kf).round(4), \" |  std:\", np.std(rmse_kf).round(4))\n",
        "print(\"Blocked KFold RMSE:    mean:\", np.mean(rmse_bkf).round(4), \" |  std:\", np.std(rmse_bkf).round(4))\n",
        "print(\"Expanding window RMSE: mean:\", np.mean(rmse_ew).round(4), \" |  std:\", np.std(rmse_ew).round(4))\n",
        "print(\"Sliding-window RMSE:   mean:\", np.mean(rmse_sw).round(4), \" |  std:\", np.std(rmse_sw).round(4))\n",
        "print(\"Sliding-window RMSE:   mean:\", np.mean(rmse_sw2).round(4), \" |  std:\", np.std(rmse_sw2).round(4))"
      ],
      "metadata": {
        "colab": {
          "base_uri": "https://localhost:8080/"
        },
        "outputId": "678b0018-5a74-4d4d-f639-530304a48ccb",
        "id": "ClXan9azOInK"
      },
      "execution_count": null,
      "outputs": [
        {
          "output_type": "stream",
          "name": "stdout",
          "text": [
            "Random KFold RMSE:     mean: 4.3065  |  std: 0.1944\n",
            "Blocked KFold RMSE:    mean: 4.7066  |  std: 2.4827\n",
            "Expanding window RMSE: mean: 5.0875  |  std: 1.7518\n",
            "Sliding-window RMSE:   mean: 3.4915  |  std: 0.1455\n",
            "Sliding-window RMSE:   mean: 2.1095  |  std: 0.3164\n"
          ]
        }
      ]
    },
    {
      "cell_type": "markdown",
      "source": [
        "## Benefits and drawbacks\n",
        "\n",
        "### Benefits\n",
        "- Reliable performance estimates\n",
        "- Effiecient use of data\n",
        "- Comparison of model types\n",
        "\n",
        "### Drawbacks\n",
        "- Computational cost\n",
        "- Complexity for certain datatypes\n",
        "- Data leakage"
      ],
      "metadata": {
        "id": "vauROb0kIw2l"
      }
    },
    {
      "cell_type": "markdown",
      "source": [
        "## Conculsions\n",
        "- Random splits is only valid for iid data\n",
        "\n",
        "#### Split in a way that makes sense for your real world application"
      ],
      "metadata": {
        "id": "AHuq3am2DRC_"
      }
    }
  ]
}