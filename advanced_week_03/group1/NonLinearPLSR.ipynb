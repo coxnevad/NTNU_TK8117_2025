{
 "cells": [
  {
   "cell_type": "markdown",
   "id": "8986f607",
   "metadata": {},
   "source": [
    "# Non linear PLSR\n",
    "\n",
    "**PLSR**:\n",
    "* Step 1: Extracting latent variables that maximize covariance between predictors and responses.\n",
    "* Step 2: Regressing the response on these latent variables (using least square approach).\n",
    "\n",
    "**Linear PLSR** assumes linear relationship between predictors and responses.\n",
    "* Latent variables as a linear combination of explanatory variables $LV = B*X$\n",
    "* Regression model as a linear combination of the latent variables $Y = W*LV$ \n",
    "\n",
    "How to derive a regression model that captures non-linear relationships?"
   ]
  },
  {
   "cell_type": "markdown",
   "id": "3a106e90",
   "metadata": {},
   "source": [
    "\n",
    "## Introducing non-linearity in PLSR\n",
    "\n",
    "**Modifing the feature space before deriving latent variables**\n",
    "* Augment the predictor matrix with polynomial terms\n",
    "* Use Kernel functions to map the original data into higer dimensional feature space\n",
    "\n",
    "**Derivation of latent variables**\n",
    "* Unchanged to maintain the strenghts of PLSR \n",
    "\n",
    "**In derivation of regression model**\n",
    "* Use a spline function \n",
    "* Use a NN to model the relationship between the latent variables and the responses\n",
    "\n",
    "**Local Weighted PLSR**\n",
    "* Applies PLSR locally around each prediction point using a weighted neighborhood.\n"
   ]
  },
  {
   "cell_type": "markdown",
   "id": "0dfe8feb",
   "metadata": {},
   "source": [
    "## Modifing the feature space before deriving latent variables\n",
    "\n",
    "### Augment the predictor matrix with polynomial terms\n",
    "* Explicit creation of new features by adding terms such as $x_1^2, x_2^2, x_1 x_2, ...$\n",
    "* Easier to interpret\n",
    "* Not computationally effective \n",
    "\n",
    "also called \"non-linear PLSR via input transformation\"\n",
    "\n",
    "### Use Kernel functions $K(x_i, x_j)$\n",
    "* Implicit projection of original data into higer-dimensional feature space\n",
    "* More computationaly eficient for high dimensional expansions\n",
    "* Harder to interpret\n",
    "\n",
    "also called \"Kernel PLSR\".\n",
    "\n",
    "Note: The PLSR algorithm is adapted to work with the kernel matrix K, which replaces the original X. Therefore the higher-dimensional feature space is not explicitly constructed!"
   ]
  },
  {
   "cell_type": "markdown",
   "id": "4514dddd",
   "metadata": {},
   "source": [
    "## Derivation of a non-linear regression model\n",
    "\n",
    "### Use a spline function \n",
    "* Uses spline functions (e.g., B-splines) to model non-linear relationships between latent variables and response\n",
    "* Requires knot selection and can be sensitive to overfitting\n",
    "* Still has some level of interpretability\n",
    "\n",
    "also called \"Spline-based PLSR\"\n",
    "\n",
    "### Use a NN to model the relationship between the latent variables and the responses\n",
    "* Very flexible and powerful for modeling highly non-linear systems\n",
    "* Requires careful training and regularization\n",
    "* Interpretability is low\n",
    "\n",
    "also called \"NN-PLSR\"\n"
   ]
  },
  {
   "cell_type": "markdown",
   "id": "78e2f0a9",
   "metadata": {},
   "source": [
    "## Derivation of a non-linear regression model (cont.)\n",
    "Are we still using least square approach in non linear regression models? \n",
    "\n",
    "**Spline-based PLSR**: YES! The regression coefficients are estimated by minimizing the squared error between predicted and actual responses.\n",
    "\n",
    "**NN-PLSR**: YES but not always. NN can use a least squares loss function (MSE loss), combined with a gradient descent optimization method."
   ]
  },
  {
   "cell_type": "markdown",
   "id": "d82d8bf8",
   "metadata": {},
   "source": [
    "## Local Weighted PLSR\n",
    "\n",
    "Adressed by another group :) "
   ]
  }
 ],
 "metadata": {
  "language_info": {
   "name": "python"
  }
 },
 "nbformat": 4,
 "nbformat_minor": 5
}
