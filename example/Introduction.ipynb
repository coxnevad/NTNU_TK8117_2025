{
 "cells": [
  {
   "cell_type": "markdown",
   "id": "0c743f9f-2db8-4605-a77b-7f57a74ba04d",
   "metadata": {},
   "source": [
    "# Header - Fancy title\n",
    "Normal text that can describe the contents.\n",
    "Written here in what is known as \"Markdown\""
   ]
  },
  {
   "cell_type": "markdown",
   "id": "d3dce1c8-857f-4dc7-8681-159771b0035e",
   "metadata": {},
   "source": [
    "We can add equations like in Latex"
   ]
  },
  {
   "cell_type": "markdown",
   "id": "2eac4970-a565-40e8-b45a-97ecf2d8453e",
   "metadata": {},
   "source": [
    "$2+2*\\frac{2}{3} + \\begin{bmatrix} 1 &2 \\\\3&4\\end{bmatrix}+ \\sum_{k=1}^{n} k^2$"
   ]
  },
  {
   "cell_type": "markdown",
   "id": "755ed5d9-5438-4d92-b620-d32c7422cbca",
   "metadata": {},
   "source": [
    "And we can also add images by using the same latex structure, images can be saved to the the folder named \"Images\", as seen in the image. \n",
    "\n"
   ]
  },
  {
   "cell_type": "markdown",
   "id": "9643b50f-8f16-424e-b34b-fbbdb9deb034",
   "metadata": {},
   "source": [
    "![Sample Image](Images/.jpg) $\\begin"
   ]
  },
  {
   "cell_type": "code",
   "execution_count": 2,
   "id": "ae66b5d9-40b6-4b8a-bc40-218d0f0bc31d",
   "metadata": {},
   "outputs": [
    {
     "name": "stdout",
     "output_type": "stream",
     "text": [
      "Hello_world\n"
     ]
    }
   ],
   "source": [
    "print(\"Hello_world\")"
   ]
  },
  {
   "cell_type": "code",
   "execution_count": null,
   "id": "c6e6a099-05a1-413f-9a29-4b4f45cc57e5",
   "metadata": {},
   "outputs": [],
   "source": []
  }
 ],
 "metadata": {
  "kernelspec": {
   "display_name": "Python 3 (ipykernel)",
   "language": "python",
   "name": "python3"
  },
  "language_info": {
   "codemirror_mode": {
    "name": "ipython",
    "version": 3
   },
   "file_extension": ".py",
   "mimetype": "text/x-python",
   "name": "python",
   "nbconvert_exporter": "python",
   "pygments_lexer": "ipython3",
   "version": "3.11.13"
  }
 },
 "nbformat": 4,
 "nbformat_minor": 5
}
