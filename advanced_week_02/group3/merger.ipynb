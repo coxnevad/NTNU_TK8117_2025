{
 "cells": [
  {
   "cell_type": "markdown",
   "id": "d89bc18e-168b-4fc6-b465-1096681285c4",
   "metadata": {},
   "source": [
    "# MErger script"
   ]
  },
  {
   "cell_type": "markdown",
   "id": "2043d741-6782-4a09-9c1d-1a90e51deb8d",
   "metadata": {},
   "source": [
    "https://medium.com/@lucky.girish97/combine-jupyter-notebook-ipynb-files-db5326414286"
   ]
  },
  {
   "cell_type": "code",
   "execution_count": 6,
   "id": "17f27567-76f7-4dfd-90cb-d81fbfb68c3b",
   "metadata": {},
   "outputs": [],
   "source": [
    "import json\n",
    "import os\n",
    "\n",
    "def combine_notebooks(nb1, nb2,new_name):\n",
    "\n",
    "    with open (nb1, mode = \"r\", encoding = 'utf-8') as f:\n",
    "        a = json.load(f)\n",
    "    with open (nb2, mode = \"r\", encoding = 'utf-8') as f:\n",
    "        b = json.load(f)\n",
    "        a['cells'].extend (b['cells'])\n",
    "        print(f'merging: {nb1}, {nb2}')\n",
    "    with open (new_name, mode = 'w', encoding='utf-8') as n:\n",
    "        json.dump(a, n)\n",
    "\n",
    "    print('Generated files: {}'.format(new_name))\n",
    "    return(os.path.realpath(new_name))\n",
    "    "
   ]
  },
  {
   "cell_type": "code",
   "execution_count": 7,
   "id": "038c34bd-aeec-4e6f-a1cc-814beb82faf2",
   "metadata": {},
   "outputs": [
    {
     "name": "stdout",
     "output_type": "stream",
     "text": [
      "merging: merged_1.ipynb, glass_pca_z_score.ipynb\n",
      "Generated files: merged_2.ipynb\n"
     ]
    },
    {
     "data": {
      "text/plain": [
       "'C:\\\\Users\\\\PhD\\\\Documents\\\\PhD\\\\TK8117\\\\advanced_topics\\\\advanced_week_02\\\\group3\\\\merged_2.ipynb'"
      ]
     },
     "execution_count": 7,
     "metadata": {},
     "output_type": "execute_result"
    }
   ],
   "source": [
    "combine_notebooks(\"merged_1.ipynb\",\"glass_pca_z_score.ipynb\",\"merged_2.ipynb\")"
   ]
  },
  {
   "cell_type": "code",
   "execution_count": null,
   "id": "7f6e8562-d1ad-451d-93e0-8f727240d165",
   "metadata": {},
   "outputs": [],
   "source": []
  }
 ],
 "metadata": {
  "kernelspec": {
   "display_name": "Python 3 (ipykernel)",
   "language": "python",
   "name": "python3"
  },
  "language_info": {
   "codemirror_mode": {
    "name": "ipython",
    "version": 3
   },
   "file_extension": ".py",
   "mimetype": "text/x-python",
   "name": "python",
   "nbconvert_exporter": "python",
   "pygments_lexer": "ipython3",
   "version": "3.13.5"
  }
 },
 "nbformat": 4,
 "nbformat_minor": 5
}
